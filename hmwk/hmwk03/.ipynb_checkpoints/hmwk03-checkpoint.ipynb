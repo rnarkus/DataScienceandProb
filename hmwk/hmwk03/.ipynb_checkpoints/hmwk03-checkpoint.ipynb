{
 "cells": [
  {
   "cell_type": "markdown",
   "metadata": {},
   "source": [
    "# Homework 3: Random Variables and Their Distributions\n",
    "***\n",
    "\n",
    "**Name**: Markus Hudobnik\n",
    "\n",
    "**Section**: 002\n",
    "***\n",
    "\n",
    "This assignment is due on Moodle by **5pm on Friday October 13th**. Your solutions to theoretical questions should be done in Markdown/MathJax directly below the associated question.  Your solutions to computational questions should include any specified Python code and results as well as written commentary on your conclusions.  Remember that you are encouraged to discuss the problems with your instructors and classmates, but **you must write all code and solutions on your own**.  For a refresher on the course **Collaboration Policy** click [here](https://github.com/chrisketelsen/csci3022/blob/master/resources/syllabus.md#collaboration-policy).  \n",
    "\n",
    "**NOTES**: \n",
    "\n",
    "- Do **NOT** load or use any Python packages that are not available in Anaconda 3.6. \n",
    "- Some problems with code may be autograded.  If we provide a function API **do not** change it.  If we do not provide a function API then you're free to structure your code however you like. \n",
    "- Because you can technically evaluate notebook cells is a non-linear order, it's a good idea to do Cell $\\rightarrow$ Run All as a check before submitting your solutions.  That way if we need to run your code you will know that it will work as expected. \n",
    "- Submit only this Jupyter notebook to Moodle.  Do not compress it using tar, rar, zip, etc. "
   ]
  },
  {
   "cell_type": "code",
   "execution_count": 24,
   "metadata": {
    "collapsed": true,
    "scrolled": true
   },
   "outputs": [],
   "source": [
    "import pandas as pd\n",
    "import numpy as np\n",
    "import matplotlib.pylab as plt\n",
    "import math\n",
    "\n",
    "import scipy.stats\n",
    "import scipy.integrate as integrate\n",
    "import scipy.special as special\n",
    "from scipy.special import binom\n",
    "%matplotlib inline"
   ]
  },
  {
   "cell_type": "markdown",
   "metadata": {},
   "source": [
    "### [15 points] Problem 1 \n",
    "***\n",
    "\n",
    "A young boy and an old woman are playing [tic tac toe](https://en.wikipedia.org/wiki/Tic-tac-toe). Unfortunately, the boy is too young to know the strategy and the old woman can't see the board well enough to enact a strategy. Nevertheless, they are content to play games with each other. The boy plays first and randomly places an X in an open square. The woman plays next, and randomly places an O in one of the remaining open squares. They each play randomly until someone gets three in a row, and then start a new game. Estimate, via simulation, the probability that the boy wins.\n",
    "\n",
    "**Note**: Part of the goal of this exercises is to give you more practice structuring a simulation. Definitely don't be afraid to write helper functions that get called from your main simulation routine. Things you might want to do modularly are (i) play a single game of tic-tac-toe, (ii) place an $X$ or an $O$ on an free square, or (iii) check if someone has one the game. This problem will not be autograded so feel free to get creative.  Just make sure to clearly display your results in code output and summarize things in Markdown. "
   ]
  },
  {
   "cell_type": "code",
   "execution_count": 25,
   "metadata": {
    "collapsed": true
   },
   "outputs": [],
   "source": [
    "def choose_number():\n",
    "    return np.random.randint(0,9)"
   ]
  },
  {
   "cell_type": "code",
   "execution_count": 26,
   "metadata": {
    "collapsed": true
   },
   "outputs": [],
   "source": [
    "def old_woman(board):\n",
    "    #select a random number and place it on the board\n",
    "    n = choose_number()\n",
    "    if board[n] == \"X\" or board[n] == \"O\":\n",
    "        #check until the right interval\n",
    "        old_woman(board)\n",
    "    else:\n",
    "        board[n] = \"O\"\n",
    "    return board"
   ]
  },
  {
   "cell_type": "code",
   "execution_count": 27,
   "metadata": {
    "collapsed": true
   },
   "outputs": [],
   "source": [
    "def boy(board):\n",
    "#select a random number and place it on the board\n",
    "    n = choose_number()\n",
    "    if board[n] == \"X\" or board[n] == \"O\":\n",
    "        #check until the right interval\n",
    "        boy(board)\n",
    "    else:\n",
    "        board[n] = \"X\"\n",
    "    return board"
   ]
  },
  {
   "cell_type": "code",
   "execution_count": 28,
   "metadata": {
    "collapsed": true
   },
   "outputs": [],
   "source": [
    "def game_status(board):\n",
    "    count = 0\n",
    "    #winning combinations, for loop checks for three in a row\n",
    "    for a,b,c in ((0, 1, 2), (6, 7, 8), (3, 4, 5), (0, 3, 6), (0, 4, 8), (1, 4, 7), (2, 5, 8), (2, 4, 6)):\n",
    "        #player one wins\n",
    "        if board[a] == board[b] == board[c] == \"X\":\n",
    "            #print(\"boy\")\n",
    "            return \"boy\"\n",
    "        #player two wins\n",
    "        if board[a] == board[b] == board[c] == \"O\":\n",
    "            #print(\"old woman\")\n",
    "            return \"old woman\"\n",
    "            \n",
    "    #check for a tie...?\n",
    "    #checks if all 9 spaces are fill, but no winner\n",
    "    for x in range(9):\n",
    "        if board[x] == \"X\" or board[x] == \"O\":\n",
    "            count += 1\n",
    "        if count == 9:\n",
    "            #print(\"tie\")\n",
    "            return \"tie\"\n",
    "            \n"
   ]
  },
  {
   "cell_type": "code",
   "execution_count": 29,
   "metadata": {
    "collapsed": true
   },
   "outputs": [],
   "source": [
    "def tic_tac_toe():\n",
    "    #draw a board\n",
    "    board = [1, 2, 3, 4, 5, 6, 7, 8, 9]\n",
    "    winner = \"jjj\"\n",
    "\n",
    "    #run check on the board to check if someone wins\n",
    "    for a in range(9):  \n",
    "        boy(board)\n",
    "        if game_status(board) == \"tie\":\n",
    "            winner = \"tie\"\n",
    "            break\n",
    "        if game_status(board) == \"boy\":\n",
    "            winner = \"boy\"\n",
    "            break\n",
    "            \n",
    "        old_woman(board)\n",
    "        if game_status(board) == \"tie\":\n",
    "            winner = \"tie\"\n",
    "            break\n",
    "        if game_status(board) == \"old woman\":\n",
    "            winner = \"old woman\"\n",
    "            break\n",
    "        \n",
    "    return winner"
   ]
  },
  {
   "cell_type": "code",
   "execution_count": 30,
   "metadata": {
    "collapsed": true
   },
   "outputs": [],
   "source": [
    "def prob_of_boy_winning(chance,num_trials=9000):\n",
    "    boy = np.array([tic_tac_toe() for boy in range(num_trials)])\n",
    "    return np.sum(boy == chance) / num_trials"
   ]
  },
  {
   "cell_type": "code",
   "execution_count": 31,
   "metadata": {},
   "outputs": [
    {
     "data": {
      "text/plain": [
       "'boy'"
      ]
     },
     "execution_count": 31,
     "metadata": {},
     "output_type": "execute_result"
    }
   ],
   "source": [
    "tic_tac_toe()"
   ]
  },
  {
   "cell_type": "code",
   "execution_count": 32,
   "metadata": {},
   "outputs": [
    {
     "name": "stdout",
     "output_type": "stream",
     "text": [
      "0.587111111111\n",
      "0.288333333333\n",
      "0.124333333333\n"
     ]
    }
   ],
   "source": [
    "print(prob_of_boy_winning(\"boy\"))\n",
    "print(prob_of_boy_winning(\"old woman\"))\n",
    "print(prob_of_boy_winning(\"tie\"))"
   ]
  },
  {
   "cell_type": "markdown",
   "metadata": {},
   "source": [
    "The boy has the  edge because he gets to go first! I created a for loop that loops 9 times, for the nine turns they will play. I then let boy function go, checking the values of the game, then moving on to old womans turn. I added recursion to simplify. Before, it would just skip entirely if it picked the same random number. I could optimize this more and simplify it a lot but it works!\n",
    "\n",
    "\n",
    "I double checked my numbers with googling \"chance of tic-tac-toe\". My numbers match those of the probability, of player 1, player 2, and tying. "
   ]
  },
  {
   "cell_type": "markdown",
   "metadata": {},
   "source": [
    "### [20 points] Problem 2 \n",
    "***\n",
    "\n",
    "Let $X$ be the lifespan (in years) of a BF Goodrich Rugged Trail T/A tire under normal driving conditions, and suppose $X$ is described by the following probability density function: \n",
    "\n",
    "$$\n",
    "f(x) = \\left\\{ \n",
    "\\begin{array}{ll}\n",
    "\\dfrac{10}{cx^2} & 1 \\leq x \\leq 10 \\\\\n",
    "0 & \\textrm{otherwise}\n",
    "\\end{array}\n",
    "\\right.\n",
    "$$\n",
    "\n",
    "**Part A**: Determine the value of $c$ such that $f(x)$ is a valid density function. "
   ]
  },
  {
   "cell_type": "markdown",
   "metadata": {
    "collapsed": true
   },
   "source": [
    "$$1= \\int_{1}^{10} \\frac{10}{cx^2} dx$$  \n",
    "$$= \\left. \\frac{1}{c} * \\frac{-10}{x}\\right|_{1}^{10}$$    \n",
    "$$= (\\frac{1}{c} * \\frac{-10}{10})-(\\frac{1}{c} * \\frac{-10}{1})$$\n",
    "\n",
    "$$c=9$$\n"
   ]
  },
  {
   "cell_type": "markdown",
   "metadata": {},
   "source": [
    "**Part B**: Compute the cumulative distribution function $F(y)$ for $X$. "
   ]
  },
  {
   "cell_type": "markdown",
   "metadata": {
    "collapsed": true
   },
   "source": [
    "$$F(y)= \\int_{1}^{10} \\frac{10}{cy^2} dy$$  \n",
    "$$= \\left. \\frac{1}{c} * \\frac{-10}{y}\\right|_{1}^{x}$$    \n",
    "$$= (\\frac{1}{9} * \\frac{-10}{y})-(\\frac{1}{9} * \\frac{-10}{1})$$   \n",
    "$$= \\frac{-10}{9y} -\\frac{-10}{9}$$\n",
    "\n"
   ]
  },
  {
   "cell_type": "markdown",
   "metadata": {},
   "source": [
    "**Part C**: Use the cdf you computed in **Part B** to find the probability that a single tire goes longer than 8 years without failing. "
   ]
  },
  {
   "cell_type": "markdown",
   "metadata": {
    "collapsed": true
   },
   "source": [
    "The lifespan of 8 years plugged in from the cdf above gives us $$\\frac{-10}{9(8)} -\\frac{-10}{9} = .972$$   \n",
    "And since this calculates the probability of chance to fail, taking $1-.972$ will give us the chance not to fail which is $1-.972 = 0.028$, which is $2.8\\%$, since $P(chance to fail) + P(chance not to fail) = 1$."
   ]
  },
  {
   "cell_type": "markdown",
   "metadata": {},
   "source": [
    "**Part D**: Use the cdf you computed in **Part B** to determine the number of years within which $90\\%$ of all tires will need to be replaced. In other words, determine the 90th percentile of the distribution of $X$. "
   ]
  },
  {
   "cell_type": "markdown",
   "metadata": {
    "collapsed": true
   },
   "source": [
    "Since we have $\\frac{-10}{9x} -\\frac{-10}{9}$, we set that equal to the percentile, which is 0.9.\n",
    "\n",
    "$$\\frac{-10}{9x} -\\frac{-10}{9} = .9$$\n",
    "\n",
    "then solve for x,\n",
    "\n",
    "$$\\frac{9}{10}=\\frac{-10}{9x} -\\frac{-10}{9}$$  \n",
    "mulitply by 9,   \n",
    "$$8.1=\\frac{-10}{x} +10$$  \n",
    "\n",
    "$$x=5.263$$\n",
    "\n",
    "So $5.263$ years is considered the 90th percentile"
   ]
  },
  {
   "cell_type": "markdown",
   "metadata": {},
   "source": [
    "**Part E**: What is the probability that all four BF Goodrich Rugged Trail T/A tires on a vehicle last longer than 8 years without failing? "
   ]
  },
  {
   "cell_type": "markdown",
   "metadata": {
    "collapsed": true
   },
   "source": [
    "The probability would be the four tires multiplied because they are all dependent events. Therefore, $0.028*0.028*0.028*0.028 = 6.146x10^{-7}$ which is an extrememly small chance that your all 4of your tires will last longer 8 years!"
   ]
  },
  {
   "cell_type": "markdown",
   "metadata": {},
   "source": [
    "### [20 points] Problem 3 \n",
    "***\n",
    "\n",
    "Let $X =$ the leading digit of a randomly selected number from a large accounting\n",
    "ledger. For example, if we randomly draw the number \\$20,695, then $X = 2.$\n",
    "People who make up numbers to commit accounting fraud tend to give $X$ a\n",
    "(discrete) uniform distribution, i.e., $P(X = x) = \\frac{1}{9}$, for $x \\in \\{1, ..., 9\\}$. However,\n",
    "there is empirical evidence that suggests that _naturally occurring_ numbers (e.g.,\n",
    "numbers in a non-fraudulent accounting ledgers) have leading digits that do not\n",
    "follow a uniform distribution. Instead, they follow a distribution defined by the following probability mass function:\n",
    "\n",
    "$$\n",
    "f(x) = \\log_{10}\\left( \\frac{x+1}{x} \\right) \\quad \\textrm{for } x = 1, 2, \\ldots, 9\n",
    "$$"
   ]
  },
  {
   "cell_type": "markdown",
   "metadata": {},
   "source": [
    "**Part A**: Write a function pmf_natural that implements $f(x)$. Your function should take in an integer $x$ and return $f(x) = P(X = x)$.  Use your function to argue that $f(x)$ is a well-defined probability mass function. "
   ]
  },
  {
   "cell_type": "code",
   "execution_count": 33,
   "metadata": {
    "collapsed": true
   },
   "outputs": [],
   "source": [
    "def pmf_natural(x):\n",
    "    if x in range(1,9+1):\n",
    "        return math.log10(((x+1)/x))\n",
    "    return "
   ]
  },
  {
   "cell_type": "code",
   "execution_count": 34,
   "metadata": {},
   "outputs": [
    {
     "name": "stdout",
     "output_type": "stream",
     "text": [
      "1.0\n"
     ]
    }
   ],
   "source": [
    "total = 0\n",
    "for x in range(1,9+1):\n",
    "    total = pmf_natural(x) + total\n",
    "\n",
    "print(total)"
   ]
  },
  {
   "cell_type": "markdown",
   "metadata": {},
   "source": [
    "As you can see, it looks like the pmf equals 1.0 which is in fact exactly what the pmf should be doing when all the parts are added up, as the pmf solves for the probablity. So yes, it is a well-defined pmf."
   ]
  },
  {
   "cell_type": "markdown",
   "metadata": {},
   "source": [
    "**Part B**: Use the function you wrote above to make stacked bar plots describing the pmf of the naturally occurring numbers as well as the discrete uniform distribution.  Make sure that the $x$- and $y$-limits on your plots are the same so that the two distributions are easy to compare. "
   ]
  },
  {
   "cell_type": "code",
   "execution_count": 35,
   "metadata": {
    "scrolled": true
   },
   "outputs": [
    {
     "name": "stdout",
     "output_type": "stream",
     "text": [
      "[0.3010299956639812, 0.17609125905568124, 0.12493873660829993, 0.09691001300805642, 0.07918124604762482, 0.06694678963061322, 0.05799194697768673, 0.05115252244738129, 0.04575749056067514]\n",
      "[0.1111111111111111, 0.1111111111111111, 0.1111111111111111, 0.1111111111111111, 0.1111111111111111, 0.1111111111111111, 0.1111111111111111, 0.1111111111111111, 0.1111111111111111]\n"
     ]
    }
   ],
   "source": [
    "pmff = np.array([pmf_natural(x) for x in range(0,9+1)])\n",
    "dud = []\n",
    "pmfArray=[]\n",
    "\n",
    "for x in range(1,9+1):\n",
    "    pmfx = pmf_natural(x)\n",
    "    pmfArray.append(pmfx)\n",
    "    \n",
    "for x in range(1,9+1):\n",
    "    one_game = 1/9\n",
    "    dud.append(one_game)\n",
    "index = [1,2,3,4,5,6,7,8,9]\n",
    "print(pmfArray)\n",
    "print(dud)"
   ]
  },
  {
   "cell_type": "code",
   "execution_count": 36,
   "metadata": {},
   "outputs": [
    {
     "data": {
      "image/png": "[encoded data removed]",
      "text/plain": [
       "<matplotlib.figure.Figure at 0x11dd6f240>"
      ]
     },
     "metadata": {},
     "output_type": "display_data"
    },
    {
     "data": {
      "image/png": "[encoded data removed]",
      "text/plain": [
       "<matplotlib.figure.Figure at 0x11df4a9e8>"
      ]
     },
     "metadata": {},
     "output_type": "display_data"
    }
   ],
   "source": [
    "ind = index  # the x locations for the groups\n",
    "\n",
    "fig, ax = plt.subplots(figsize=(15,4))\n",
    "plt.bar(ind,pmfArray)\n",
    "ax.set_ylabel('Probability')\n",
    "ax.set_title('PMF')\n",
    "ax.set_ylim([0,0.5])\n",
    "\n",
    "fig, ax = plt.subplots(figsize=(15,4))\n",
    "plt.bar(ind,dud)\n",
    "ax.set_ylabel('Probability')\n",
    "ax.set_title('Discrete Uniform Distribution')\n",
    "ax.set_ylim([0,0.5])\n",
    "plt.show()"
   ]
  },
  {
   "cell_type": "markdown",
   "metadata": {},
   "source": [
    "**Part C**: Write a function cdf_natural that implements the cumulative distribution function $F(y)$ for $X$ and use it to compute the probability that the leading digit in a number is at most 4 and at most 5. "
   ]
  },
  {
   "cell_type": "code",
   "execution_count": 37,
   "metadata": {
    "collapsed": true
   },
   "outputs": [],
   "source": [
    "def cdf_natural(y):\n",
    "    result = 0\n",
    "    for x in range(1,y+1):\n",
    "        result += math.log10(((x+1)/x))\n",
    "    return result "
   ]
  },
  {
   "cell_type": "code",
   "execution_count": 38,
   "metadata": {},
   "outputs": [
    {
     "name": "stdout",
     "output_type": "stream",
     "text": [
      "cdf = 0.698970\n",
      "69.8970%\n"
     ]
    }
   ],
   "source": [
    "print (\"cdf = {0:0f}\".format(cdf_natural(4)))\n",
    "\n",
    "print (\"{0:.4f}%\".format(cdf_natural(4) * 100))"
   ]
  },
  {
   "cell_type": "code",
   "execution_count": 39,
   "metadata": {},
   "outputs": [
    {
     "name": "stdout",
     "output_type": "stream",
     "text": [
      "cdf = 0.778151\n",
      "77.8151%\n"
     ]
    }
   ],
   "source": [
    "print (\"cdf = {0:0f}\".format(cdf_natural(5)))\n",
    "\n",
    "print (\"{0:.4f}%\".format(cdf_natural(5) * 100))"
   ]
  },
  {
   "cell_type": "code",
   "execution_count": 40,
   "metadata": {},
   "outputs": [
    {
     "name": "stdout",
     "output_type": "stream",
     "text": [
      "0.7781512503836436\n"
     ]
    }
   ],
   "source": [
    "print(cdf_natural(5))"
   ]
  },
  {
   "cell_type": "markdown",
   "metadata": {},
   "source": [
    "**Part D**: The data in tax_data.txt contains the taxable income for individuals in 1978. Use Pandas and the information from **Parts A-D** to determine whether or not the dataset is likely fraudulent.  In addition to code and any graphical summaries, make sure to clearly justify your conclusion in words. "
   ]
  },
  {
   "cell_type": "code",
   "execution_count": 41,
   "metadata": {},
   "outputs": [
    {
     "data": {
      "text/plain": [
       "(0, 0.5)"
      ]
     },
     "execution_count": 41,
     "metadata": {},
     "output_type": "execute_result"
    },
    {
     "data": {
      "image/png": "[encoded data removed]",
      "text/plain": [
       "<matplotlib.figure.Figure at 0x11e037048>"
      ]
     },
     "metadata": {},
     "output_type": "display_data"
    }
   ],
   "source": [
    "dfIncome = pd.read_csv(\"tax_data.txt\",delimiter=\"\\t\")\n",
    "\n",
    "\n",
    "dfIncome['First'] = dfIncome['Tax Incomes'].astype(str).str[0]\n",
    "\n",
    "dfIncome['First'] = dfIncome['First'].astype(int)\n",
    "\n",
    "dfArray = []\n",
    "total=dfIncome['First'].count()\n",
    "for x in range(1,9+1):\n",
    "    num = dfIncome['First'][dfIncome['First'] == x].count()\n",
    "    \n",
    "    dfArray.append(num/total)\n",
    "\n",
    "ind = index \n",
    "\n",
    "fig, ax = plt.subplots(figsize=(15,4))\n",
    "plt.bar(ind,dfArray)\n",
    "ax.set_ylabel('Probability')\n",
    "ax.set_title('PMF')\n",
    "ax.set_ylim([0,0.5])"
   ]
  },
  {
   "cell_type": "markdown",
   "metadata": {},
   "source": [
    "After taking the occurances of each number in the set and finding the % of the total numbers, I plotted the graph and it looks identical to the pmf I did in part B. My conclusion is that this data set is valid. It consists of naturally occurring numbers because it matches the above pmf of naturally occurring numbers. The exact numbers are are little bit off, but the difference is small (the code below shows) and still follows the same path. "
   ]
  },
  {
   "cell_type": "code",
   "execution_count": 42,
   "metadata": {},
   "outputs": [
    {
     "data": {
      "text/plain": [
       "array([ 0.01277541,  0.02881231, -0.00667289, -0.01121187, -0.01003359,\n",
       "       -0.01703503, -0.01864406, -0.01348064, -0.00741267])"
      ]
     },
     "execution_count": 42,
     "metadata": {},
     "output_type": "execute_result"
    }
   ],
   "source": [
    "np.subtract(dfArray,pmfArray)"
   ]
  },
  {
   "cell_type": "markdown",
   "metadata": {},
   "source": [
    "### [25 points] Problem 4 \n",
    "***\n",
    "\n",
    "You are a data-driven transportation engineer investigating the effect that a particular [vertical lift bridge](https://en.wikipedia.org/wiki/Vertical-lift_bridge) has on city traffic.  Every time a boat passes under the bridge, cars must stop while the bridge is raised to accommodate the height of the boat.  As both boat and car traffic increases, city planners are considering building a new taller bridge that will never impede the flow of traffic. As part of a larger simulation of traffic congestion, you need to decide how to model the arrival of boats at the bridge.  From your Intro to Data Science class you remember that the time _between_ independent arrivals are usually modeled by an Exponential distribution.  Finally, you have access to a report that says on average 20 boats cross under the bridge per day.\n",
    "\n",
    "Answer the following questions about this scenario. **Note** that for **Parts B-D** you should clearly express the computation you're doing with math, but feel free to do any fancy function evaluations with Python. \n",
    "\n",
    "**Part A**:  Assuming the between-boat times do in-fact follow $Exp(20)$, what distribution would you expect the **number** of boats that cross under the bridge on a given day to follow?  What are the parameter(s) of the distribution? "
   ]
  },
  {
   "cell_type": "markdown",
   "metadata": {
    "collapsed": true
   },
   "source": [
    "I would expect that it would have a poisson distribution, like we learned in class espiecially if the time between independetn events is exponential"
   ]
  },
  {
   "cell_type": "markdown",
   "metadata": {},
   "source": [
    "**Part B**:  What is the probability that 25 boats cross under the bridge on a particular day?"
   ]
  },
  {
   "cell_type": "markdown",
   "metadata": {
    "collapsed": true
   },
   "source": [
    "Using the poisson distribution formula, we get:\n",
    "    \n",
    "$$ \\lambda = 20 $$\n",
    "\n",
    "$$ P(25 boats in a day)= \\frac{\\lambda^{k}e^{-\\lambda}}{k!} = \\frac{20^{25}e^{-20}}{25!}$$\n",
    "\n",
    "$$=0.04459$$"
   ]
  },
  {
   "cell_type": "markdown",
   "metadata": {},
   "source": [
    "**Part C**:  What is the probability that 15 boats or fewer cross under the bridge on a particular day?"
   ]
  },
  {
   "cell_type": "markdown",
   "metadata": {
    "collapsed": true
   },
   "source": [
    "$$ \\lambda = 20 $$\n",
    "\n",
    "$$ P(25 boats in a day)= \\frac{\\lambda^{k}e^{-\\lambda}}{k!} = \\frac{20^{15}e^{-20}}{15!}$$\n",
    "\n",
    "$$=0.05165$$"
   ]
  },
  {
   "cell_type": "code",
   "execution_count": 43,
   "metadata": {
    "collapsed": true
   },
   "outputs": [],
   "source": [
    "def prob_of_k_lower(k):\n",
    "    lam = 20\n",
    "    total=0\n",
    "    for x in range(1,k+1):\n",
    "        total += ((lam**x)*(math.exp(-lam)))/(math.factorial(x))\n",
    "    \n",
    "    \n",
    "    return total"
   ]
  },
  {
   "cell_type": "code",
   "execution_count": 44,
   "metadata": {},
   "outputs": [
    {
     "data": {
      "text/plain": [
       "0.1565131325785894"
      ]
     },
     "execution_count": 44,
     "metadata": {},
     "output_type": "execute_result"
    }
   ],
   "source": [
    "prob_of_k_lower(15)"
   ]
  },
  {
   "cell_type": "markdown",
   "metadata": {},
   "source": [
    "**Part D**: What is the probability that between 1 and 2 hours pass between two boat crossings? "
   ]
  },
  {
   "cell_type": "markdown",
   "metadata": {
    "collapsed": true
   },
   "source": [
    "We can take the CDF and use it here. \n",
    "$$P(X<=\\Delta t) = 1-P(0)$$\n",
    "\n",
    "$$F(\\Delta t)=1-e^{-\\lambda \\Delta t}$$\n",
    "\n",
    "Since the difference is 1 hour and there are 24 hours in a day this gives us the fraction of $\\frac{1}{24}$. but we have to subtract it from $\\frac{2}{24}$, for 2 hours in the day\n",
    "\n",
    "$$F(\\frac{2}{24})=1-e^{-20(\\frac{2}{24})}$$\n",
    "\n",
    "$$F(\\frac{1}{24})=1-e^{-20(\\frac{1}{24})}$$\n",
    "\n",
    "$$F(\\frac{2}{24})-F(\\frac{1}{24})=.246$$"
   ]
  },
  {
   "cell_type": "markdown",
   "metadata": {},
   "source": [
    "**Part F**: Write a function boat_count that takes as it's sole argument the rate parameter $\\lambda$ with units boats per day. Your function should simulate boat arrivals at the bridge by sampling between-boat times from $Exp(\\lambda)$ via Numpy's [random.exponential](https://docs.scipy.org/doc/numpy-1.13.0/reference/generated/numpy.random.exponential.html) function and return the number of boats that pass under the bridge on a single simulated day. \n",
    "\n",
    "**Note**: Do not change the API for this function.  "
   ]
  },
  {
   "cell_type": "code",
   "execution_count": 45,
   "metadata": {
    "collapsed": true
   },
   "outputs": [],
   "source": [
    "def boat_count(lam):\n",
    "    boatNum = 0\n",
    "    time = 0\n",
    "    while (time <= 1):\n",
    "        time += np.random.exponential(1/lam)\n",
    "        boatNum +=1\n",
    "        \n",
    "    return boatNum-1"
   ]
  },
  {
   "cell_type": "code",
   "execution_count": 46,
   "metadata": {},
   "outputs": [
    {
     "data": {
      "text/plain": [
       "24"
      ]
     },
     "execution_count": 46,
     "metadata": {},
     "output_type": "execute_result"
    }
   ],
   "source": [
    "boat_count(20)"
   ]
  },
  {
   "cell_type": "markdown",
   "metadata": {},
   "source": [
    "**Part G**: Write a function boat_count_sim that takes as arguments the rate parameter $\\lambda$ with units boats per day and an integer number of days to simulate. Your function should use the function you wrote in **Part F** to simulate many independent days of boat crossings and estimate the probability that 15 boats or fewer cross under the bridge on a particular day. For $\\lambda = 20$, does your estimate agree with the by-hand computation you did in **Part C**?  \n",
    "\n",
    "**Note**: Do not change the API for this function.  "
   ]
  },
  {
   "cell_type": "code",
   "execution_count": 47,
   "metadata": {},
   "outputs": [],
   "source": [
    "def boat_count_sim(lam, num_days=int(1e3)):\n",
    "    count = 0\n",
    "    for x in range(1,num_days):\n",
    "        num = boat_count(20)\n",
    "        if num<=15:\n",
    "            count+=1\n",
    "            \n",
    "    return count/num_days"
   ]
  },
  {
   "cell_type": "code",
   "execution_count": 48,
   "metadata": {},
   "outputs": [
    {
     "data": {
      "text/plain": [
       "0.157"
      ]
     },
     "execution_count": 48,
     "metadata": {},
     "output_type": "execute_result"
    }
   ],
   "source": [
    "boat_count_sim(20)"
   ]
  },
  {
   "cell_type": "markdown",
   "metadata": {},
   "source": [
    "Yes, it agrees with Part C!"
   ]
  },
  {
   "cell_type": "markdown",
   "metadata": {},
   "source": [
    "**Part H**: Write a function boat_time_sim that takes as arguments the rate parameter $\\lambda$ with units boats per day and an integer number of boat arrivals to simulate. Your function should sample boat arrivals via [np.random.exponential](https://docs.scipy.org/doc/numpy-1.13.0/reference/generated/numpy.random.exponential.html) and estimate the probability that boats arrive between 1 and 2 hours apart.  For $\\lambda = 20$, does your estimate agree with the by-hand computation you did in **Part D**?  \n",
    "\n",
    "**Note**: Do not change the API for this function.  \n"
   ]
  },
  {
   "cell_type": "code",
   "execution_count": 49,
   "metadata": {
    "collapsed": true
   },
   "outputs": [],
   "source": [
    "def boat_time_sim(lam, num_boats=int(1e3)): \n",
    "    count=0\n",
    "    for x in range(1,num_boats+1):\n",
    "        num = np.random.exponential(1/lam)\n",
    "        if (num >= (1/24)) and (num <= (2/24)):\n",
    "            count+=1\n",
    "    return count/num_boats "
   ]
  },
  {
   "cell_type": "code",
   "execution_count": 50,
   "metadata": {},
   "outputs": [
    {
     "data": {
      "text/plain": [
       "0.228"
      ]
     },
     "execution_count": 50,
     "metadata": {},
     "output_type": "execute_result"
    }
   ],
   "source": [
    "boat_time_sim(20)"
   ]
  },
  {
   "cell_type": "markdown",
   "metadata": {},
   "source": [
    "It does agree with my Part D!"
   ]
  },
  {
   "cell_type": "markdown",
   "metadata": {},
   "source": [
    "### [20 points] Problem 5 \n",
    "***\n",
    "\n",
    "You are the team manager for the CU intramural Quidditch team, the Boulder Beaters, and you've just made it to the national championship series against the Stanford Snitching Snitches. The typical Quidditch championship is a best of 11 series, so the first team to win 6 matches is declared the winner.  Furthermore, based on a rigorous statistical analysis of regular season play, the probability that the Boulder Beaters win any one match against the Snitching Snitches is given by $p = 0.55$.  \n",
    "\n",
    "**Part A**: What is the probability that you win the 11-game series on the 8th match played? \n"
   ]
  },
  {
   "cell_type": "markdown",
   "metadata": {
    "collapsed": true
   },
   "source": [
    "The Probability would be \n",
    "$$P(8 games) = C(7,5) * (0.55^6) * (0.45^2) = 0.1177 = 11.77\\%$$\n",
    "\n",
    "I did this from taking the combination of 5 games in 7, then calculated the final win which will also end the game, by doing an extra ()"
   ]
  },
  {
   "cell_type": "markdown",
   "metadata": {},
   "source": [
    "**Part B**: What is the probability that you win the 11-game series in any valid number of matches? "
   ]
  },
  {
   "cell_type": "markdown",
   "metadata": {
    "collapsed": true
   },
   "source": [
    "Using the above formula, and applying it to $P(7),P(8),P(9),P(10),P(11)$ (we ignore $P(1)-P(5)$ as they are all $0$)\n",
    "\n",
    "we get\n",
    "\n",
    "$$P(BB wins) = (0.0277 + 0.0747 + 0.1177 + 0.1412 + 0.143 + 0.1287) = 0.633 = 63.3\\%$$\n",
    "\n",
    "You can also calculate the binomial distribution by a slightly altered function from above\n",
    "\n",
    "$$P(k) = C(n,k) * p^k * (1-p)^{n-k}$$\n",
    "\n",
    "for example from the probability at 6 games out of 11\n",
    "\n",
    "$$P(6) = C(11,6) * (0.55^6) * (0.45^5)= 0.236$$\n",
    "$$...$$\n",
    "$$P(11) = C(11,11) * (0.55^{11}) * (0.45^0)= 0.0014$$\n",
    "\n",
    "Adding all of those up gets you $$0.632 = 63.2\\%$$ "
   ]
  },
  {
   "cell_type": "markdown",
   "metadata": {},
   "source": [
    "**Part C**: The winner of the champsionship will take home \\$10,000 to use for equipment and victory parties in the following season. Because the stakes are so high, you've decided to hire a famous Quidditch consultant, Bludger Bob, to help you prepare for each match. With Bob's help your probability of winning any given match increases to $p = 0.7$.  Bludger Bob charges a fee of \\$100 per game, but as a testament to his confidence in his abilities, only charges you the \\$100 for games that you win and only if you win the series.  So, if you play a 11-game series and win you will take home \\$10,000 less \\$600 for Bludger Bob's fees, for a total payout of \\$9,400.  What is the expected payout for an 11-game series?   "
   ]
  },
  {
   "cell_type": "markdown",
   "metadata": {
    "collapsed": true
   },
   "source": [
    "Expected payout would be\n",
    "\n",
    "$$P(BB wins) = (0.1176 + 0.2117 + 0.2227 + 0.1779 + 0.12 + 0.072) = 0.9219$$\n",
    "\n",
    "then,\n",
    "\n",
    "$$0.9219(9,400)=\\$8665.86$$"
   ]
  },
  {
   "cell_type": "markdown",
   "metadata": {},
   "source": [
    "**Part D**: This year the National Intramural Quidditch Association (NIQA) is implementing an experimental rule.  As the team with the best record in the regular season you will get to choose the length of the championship series.  Specifically, you can choose the series length to be anywhere from $N=3, 5, 7, \\ldots, 99$ games long.  Assuming that you plan to use Bludger Bob's services and considering the fact that you have a better than even chance of winning each game, explain the trade-offs between choosing a short series vs. a long series in terms of Expected Payout. \n"
   ]
  },
  {
   "cell_type": "markdown",
   "metadata": {
    "collapsed": true
   },
   "source": [
    "The trade offs would be:\n",
    "\n",
    "short - Less money will be made, higher risk. Less money you are losing out from paying Bob, but you will get a lower payout. \n",
    "\n",
    "long - The longer the series, the more likely to lose money because you have to pay per game won as well, which will add up the more games there are. \n",
    "\n",
    "Basically, it goes from short games to long games with earning more money on each game until it evens out (roughly) getting the best and most money (Id say around 20 ish games), then getting lower and lower. At game 99, you woul only take home around $\\$5000$, because you have to give Bob $\\$5000$ for winning 50 games"
   ]
  },
  {
   "cell_type": "markdown",
   "metadata": {},
   "source": [
    "**Part E**: Write a function optimal_series that takes in $p$, the probability that your team wins an individual game, then computes the Expected Payout for each series of length $N=3, 5, 7, \\ldots 99$ and returns the optimal series length.  In addition to returning the optimal series length, your function should also produce a plot of Expected Payout vs Series Length. You may write any additional helper functions that you like, but you should not change the API for the function optimal_series. "
   ]
  },
  {
   "cell_type": "code",
   "execution_count": 23,
   "metadata": {
    "collapsed": true
   },
   "outputs": [],
   "source": [
    "\n",
    "def binomial_D(n,p):\n",
    "    k=np.arange(int(n/2)+1,n+1)\n",
    "    binomial = scipy.stats.binom.pmf(k,n,p)\n",
    "    return np.sum(binomial)\n",
    "\n",
    "def optimal_series(p):\n",
    "    EV=[]\n",
    "    G=[]\n",
    "    best_ratio =0\n",
    "    n = 3\n",
    "    for x in range(3,101,2):\n",
    "        #print(n)\n",
    "        #print(binomial_D(x,p))\n",
    "        #print(binomial_D(x,p)*(10000 -(int(x/2)+1)*100))\n",
    "        #print((int(x/2)+1)*100)\n",
    "        #print(\"-----------\") \n",
    "        one = binomial_D(x,p)\n",
    "        one_game = (one*(10000 -(int(x/2)+1)*100))\n",
    "       \n",
    "        n+=2\n",
    "        G.append(n)\n",
    "        EV.append(one_game)\n",
    "       \n",
    "   \n",
    "    print(\"Optimal Series length: {0:d}\".format(G[np.argmax(EV)]))\n",
    "    print(\"Highest Expected Payout: ${0:2f}\".format(np.amax(EV)))\n",
    "    plt.subplots(figsize=(15,4))\n",
    "    plt.plot(G, EV, 'o-')\n",
    "    plt.title('Expected Payout vs. # of Games', fontsize=15)\n",
    "    plt.xlabel('Number of Games', fontsize=15)\n",
    "    plt.ylabel('Expected Payout ($)', fontsize=15)\n",
    "    plt.ylim([100,10000])\n",
    "    plt.xlim([3,99])\n",
    "    return 1"
   ]
  },
  {
   "cell_type": "code",
   "execution_count": null,
   "metadata": {
    "collapsed": true
   },
   "outputs": [],
   "source": []
  },
  {
   "cell_type": "code",
   "execution_count": null,
   "metadata": {
    "collapsed": true
   },
   "outputs": [],
   "source": []
  },
  {
   "cell_type": "code",
   "execution_count": 22,
   "metadata": {
    "scrolled": false
   },
   "outputs": [
    {
     "name": "stdout",
     "output_type": "stream",
     "text": [
      "Optimal Series length: 25\n",
      "Highest Expected Payout: $6339.151699\n"
     ]
    },
    {
     "data": {
      "text/plain": [
       "1"
      ]
     },
     "execution_count": 22,
     "metadata": {},
     "output_type": "execute_result"
    },
    {
     "data": {
      "image/png": "[encoded data removed]",
      "text/plain": [
       "<matplotlib.figure.Figure at 0x11dc52be0>"
      ]
     },
     "metadata": {},
     "output_type": "display_data"
    }
   ],
   "source": [
    "optimal_series(0.56)"
   ]
  },
  {
   "cell_type": "markdown",
   "metadata": {},
   "source": [
    "### Challenge Problem - Which Geyser Gushes First? \n",
    "***\n",
    "\n",
    "In every homework assignment we'll give you a Challenge Problem.  Challenge Problems never need to be turned in (and in fact, will not be graded) but we encourage you to give them a shot (after completing the required homework problems) and discuss them with your classmates and your instructors. \n",
    "\n",
    "The following Challenge Problem was a [Riddler](https://fivethirtyeight.com/tag/the-riddler/) on [FiveThirtyEight](https://fivethirtyeight.com) a few years back. \n",
    "\n",
    "You arrive at the beautiful Three Geysers National Park. You read a placard explaining that the three eponymous geysers — creatively named $A$, $B$ and $C$ — erupt at intervals of precisely two hours, four hours and six hours, respectively. However, you just got there, so you have no idea how the three eruptions are staggered. Assuming they each started erupting at some independently random point in history, what are the probabilities that A, B and C, respectively, will be the first to erupt after your arrival?\n"
   ]
  },
  {
   "cell_type": "code",
   "execution_count": null,
   "metadata": {
    "collapsed": true
   },
   "outputs": [],
   "source": []
  }
 ],
 "metadata": {
  "kernelspec": {
   "display_name": "Python 3",
   "language": "python",
   "name": "python3"
  },
  "language_info": {
   "codemirror_mode": {
    "name": "ipython",
    "version": 3
   },
   "file_extension": ".py",
   "mimetype": "text/x-python",
   "name": "python",
   "nbconvert_exporter": "python",
   "pygments_lexer": "ipython3",
   "version": "3.6.1"
  }
 },
 "nbformat": 4,
 "nbformat_minor": 2
}
