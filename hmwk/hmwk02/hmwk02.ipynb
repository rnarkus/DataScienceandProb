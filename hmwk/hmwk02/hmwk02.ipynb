{
 "cells": [
  {
   "cell_type": "markdown",
   "metadata": {},
   "source": [
    "# Homework 2: Introduction to Probability and Simulation \n",
    "***\n",
    "\n",
    "**Name**: Markus Hudobnik\n",
    "\n",
    "**Section**: 002\n",
    "***\n",
    "\n",
    "This assignment is due on Moodle by **5pm on Friday September 29th**. Your solutions to theoretical questions should be done in Markdown/MathJax directly below the associated question.  Your solutions to computational questions should include any specified Python code and results as well as written commentary on your conclusions.  Remember that you are encouraged to discuss the problems with your instructors and classmates, but **you must write all code and solutions on your own**.  For a refresher on the course **Collaboration Policy** click [here](https://github.com/chrisketelsen/csci3022/blob/master/resources/syllabus.md#collaboration-policy).  \n",
    "\n",
    "**NOTES**: \n",
    "\n",
    "- Some problems with code may be autograded.  If we provide a function API please do not change it.  If we do not provide a function API then you're free to structure your code however you like. \n",
    "- It is **bad form** to make your reader interpret numerical output from your code.  If a question asks you to compute some value from the data you should show your code output **AND** write a summary of the results in Markdown directly below your code.\n",
    "- Because you can technically evaluate notebook cells is a non-linear order, it's a good idea to do Cell $\\rightarrow$ Run All as a check before submitting your solutions.  That way if we need to run your code you will know that it will work as expected. \n",
    "- Submit only this Jupyter notebook to Moodle.  Do not compress it using tar, rar, zip, etc. "
   ]
  },
  {
   "cell_type": "code",
   "execution_count": 2,
   "metadata": {
    "collapsed": true,
    "scrolled": true
   },
   "outputs": [],
   "source": [
    "import pandas as pd\n",
    "import numpy as np\n",
    "import matplotlib.pylab as plt\n",
    "%matplotlib inline"
   ]
  },
  {
   "cell_type": "markdown",
   "metadata": {},
   "source": [
    "### [20 points] Problem 1 \n",
    "***\n",
    "\n",
    "In a box there are 99 fair coins and 1 double-headed coin.  You grab one coin at random.  \n",
    "\n",
    "Work the following problems by hand (but don't be afraid to simulate to check your result!). \n"
   ]
  },
  {
   "cell_type": "markdown",
   "metadata": {},
   "source": [
    "**Part A**: You toss your coin one time.  What is the probability that you toss a Heads? "
   ]
  },
  {
   "cell_type": "markdown",
   "metadata": {},
   "source": [
    "200 possible outcomes, 101 are heads, 99 are tails. Since they both have an equal chance, 101/200 gives 50.5%\n",
    "\n",
    "Another way is that they is there is 1/100 chance to grab the double-headed coin which has 2/2 chance of getting a heads. While there is a 99/100 chance to get a fair coin that has a 1/2 chance of getting a heads. \n",
    "\n",
    "So adding this up gives us $$\\frac{1}{100} + (\\frac{1}{100} * \\frac{1}{2}) = \\frac{1}{100} = .505 = 50.5\\%$$"
   ]
  },
  {
   "cell_type": "markdown",
   "metadata": {},
   "source": [
    "**Part B**: Suppose you toss a Heads.  What is the probability that the coin you chose from the box is double-sided? "
   ]
  },
  {
   "cell_type": "markdown",
   "metadata": {},
   "source": [
    "Using Bayes,\n",
    "$$P(double|heads) = \\frac{P(heads|double)P(double)}{P(heads|double)P(double) + P(heads|fair)P(fair)}$$\n",
    "\n",
    "and plugging in the values,\n",
    "$$P(double|heads) = \\frac{1 * \\frac{1}{100}}{1*\\frac{1}{100} + \\frac{1}{2} * \\frac{99}{100}}$$\n",
    "\n",
    "$$P(double|heads) = \\frac{.01}{.505}$$ \n",
    "\n",
    "\n",
    "$$P(double|heads) = .0198$$\n",
    "\n",
    "\n",
    "$$P(double|heads) = 1.98\\%$$"
   ]
  },
  {
   "cell_type": "markdown",
   "metadata": {},
   "source": [
    "**Part C**: Suppose you flip your coin $n$ times and record each outcome.  Obviously, if you flip Tails you know you picked a fair coin. But, if you flipped $n$ Heads in a row you would have a stronger belief that you in fact grabbed the double-headed coin.  What is the smallest value of $n$ Heads in a row that would make you believe that there's a better-than-half chance that the coin you grabbed is double-headed?  "
   ]
  },
  {
   "cell_type": "markdown",
   "metadata": {},
   "source": [
    "I had trouble with this one.... I started by switching part B and A into variables to make it more general, so I could just plug in n and check the probability\n",
    "\n",
    "$f$ = fair coins  \n",
    "$d$ = double-headed  \n",
    "$k$ = total coins  \n",
    "$n$ = number of heads  "
   ]
  },
  {
   "cell_type": "markdown",
   "metadata": {},
   "source": [
    "Part A $= \\frac{f}{k}*\\frac{1}{2^n} + \\frac{d}{k}*1^n$  $ = \\frac{f}{k2^n} + \\frac{d*1^n}{k}$ $= \\frac{f+d2^n}{k2^n}$"
   ]
  },
  {
   "cell_type": "markdown",
   "metadata": {},
   "source": [
    "Part B $= \\frac{\\frac{d}{k}*1^n}{\\frac{f+d2^n}{k2^n}}$ $=\\frac{d2^n}{f+d2^n} $  "
   ]
  },
  {
   "cell_type": "markdown",
   "metadata": {},
   "source": [
    "and since $d = 1$ and $f=99$,\n",
    "$=\\frac{2^n}{99+2^n} $"
   ]
  },
  {
   "cell_type": "markdown",
   "metadata": {},
   "source": [
    "Using this formula, plugging in n=7 would give us 0.56387, which is roughly $56.40\\%$ chance that the coin is a double-sided coin"
   ]
  },
  {
   "cell_type": "markdown",
   "metadata": {},
   "source": [
    "### [20 points] Problem 2  \n",
    "***\n",
    "\n",
    "In soccer tournaments, [penalty shootouts](https://en.wikipedia.org/wiki/Penalty_shoot-out_(association_football) are used to determine the outcome of the game if the score is tied after regulation play.   In a penalty shootout, each team takes turns attempting 5 shots on the goal from the penalty mark that are defended only by the opposing team's goalkeeper, with the team that makes more successful kicks being declared the winner of the match.  If after 5 shots the score is still tied, the game enters _sudden death_ and the teams continue to take 1 shot each until one team scores and the other does not. \n",
    "\n",
    "Suppose that two teams ( Team $A$ and Team $B~$) are still tied at the end of the first round of 5 penalty shots and are entering sudden death.  Each team will now take one shot each in an attempt to win.  Suppose that the result of one shot is independent of the other shots, Team $A$ makes their shot with probability $p$, and Team $B$ makes their shot with probability $q$.  Let $W$ be the event that \"Team $A$ wins the game\", $E$ be the event that \"the game ends after the first round of sudden death penalty shots\", and $T$ be the event that \"the game is still tied after the first round of sudden death penalty shots\". \n",
    "\n",
    "**Part A**: The shootout continues until Team $A$ or Team $B$ wins.  What is the sample space $\\Omega$ for this experiment?  Represent the outcomes of individual shots by $G$ for a goal and $M$ for a miss and assume that Team $A$ shoots before Team $B$."
   ]
  },
  {
   "cell_type": "markdown",
   "metadata": {},
   "source": [
    "$ \\Omega = \\{(G,M),(M,G),(M,M)\\} $ *Just my work space, not sure if this is right, but left it down jsut in case*"
   ]
  },
  {
   "cell_type": "markdown",
   "metadata": {},
   "source": [
    "$ \\Omega =  \\begin{cases}G,MG,MMG,MMMG,...\\\\  MMMM... \\end{cases} $"
   ]
  },
  {
   "cell_type": "markdown",
   "metadata": {},
   "source": [
    "Where the top case is A getting a goal after some number of misses, while B contuially gets misses. Works the other way for B too. Im horrible at explaining, so hopefully that makes sense"
   ]
  },
  {
   "cell_type": "markdown",
   "metadata": {},
   "source": [
    "**Part B**: Determine $P(W \\mid E)$ in terms of $p$ and $q$."
   ]
  },
  {
   "cell_type": "markdown",
   "metadata": {},
   "source": [
    "$P(W \\mid E)$ = Team A wins after first round = $ \\frac{p(1-q)}{p(1-q)+q(1-p)}$"
   ]
  },
  {
   "cell_type": "markdown",
   "metadata": {},
   "source": [
    "The are independent of each other, $P(E)$ and $P(W)$ are disjoint"
   ]
  },
  {
   "cell_type": "markdown",
   "metadata": {},
   "source": [
    "**Part C**: Explain why events $W$ and $T$ are independent. "
   ]
  },
  {
   "cell_type": "markdown",
   "metadata": {},
   "source": [
    "$P(W \\cup T) = P(W) + P(T)$ Proving that they are disjoint events"
   ]
  },
  {
   "cell_type": "markdown",
   "metadata": {},
   "source": [
    "Meaning that $P(T \\mid W) = P(T)$ also has to be true. And this is true because \"the game is still tied after the first round of sudden death penalty shots if A wins the overall game\" aka the game is still tied regardless of if A wins the game at a certain point"
   ]
  },
  {
   "cell_type": "markdown",
   "metadata": {},
   "source": [
    "Meaning that $P(W \\mid T) = P(W)$ also has to be true. And this is true because \"A wins if the overall game is still tied after the first round of sudden death penalty shots\" aka A wins the game regardless of the game tied or not at a certain point"
   ]
  },
  {
   "cell_type": "markdown",
   "metadata": {},
   "source": [
    "The are independent because of the above and because A winning the overall game doesnt depend on if the game is tied after the first round. "
   ]
  },
  {
   "cell_type": "markdown",
   "metadata": {},
   "source": [
    "**Part D**: Use the Law of Total Probability to show that $P(W) = p(1-q) + (2pq - p - q +1) ~P(W \\mid T)$. "
   ]
  },
  {
   "cell_type": "markdown",
   "metadata": {},
   "source": [
    "$ P(W) = P(W|E)P(E) + P(W|T)P(T) $   \n",
    "\n",
    "We know $P(W|E)$ from Part B, and that $P(E)$ is equal to $(p(1-q) + q(1-p))$\n",
    "\n",
    "therefore, \n",
    "$P(W|E)P(E) =  \\frac{p(1-q)}{p(1-q)+q(1-p)} * (p(1-q) + q(1-p)) $\n",
    "\n",
    "$P(T)$ is equal to \"the game is still tied after the first round of sudden death penalty shots\" meaning both teams have to NOT score, and one is dependent on the other. Plus the probability that they both score, which is dependent of the other event, so you add them. \n",
    "\n",
    "$P(T)  = (1-p)(1-q)+pq  =  1-q-p+2pq $\n",
    "\n",
    "$P(W)= \\frac{p(1-q)}{p(1-q)+q(1-p)} * (p(1-q) + q(1-p)) + 1-q-p+2pq * P(W|T)$\n",
    "\n",
    "and finally, $P(W) = p(1-q) + (2pq-p-q+1)P(W|T) $"
   ]
  },
  {
   "cell_type": "markdown",
   "metadata": {},
   "source": [
    "**Part E**: Use the fact from **Part C** that $P(W \\mid T) = P(W)$ to determine $P(W)$ in terms of $p$ and $q$. "
   ]
  },
  {
   "cell_type": "markdown",
   "metadata": {},
   "source": [
    "Okay, not entirely sure if i did this math right but here it goes. "
   ]
  },
  {
   "cell_type": "markdown",
   "metadata": {},
   "source": [
    "First, I used that fact that $~P(W \\mid T) = P(W)$, and changed the expression to $P(W) = p(1-q) + (2pq - p - q +1) P(W)$. "
   ]
  },
  {
   "cell_type": "markdown",
   "metadata": {},
   "source": [
    "Then, I distributed the $P(W)$ like so $P(W) = p(1-q) + 2P(W)pq - P(W)p - P(W)q +P(W)$"
   ]
  },
  {
   "cell_type": "markdown",
   "metadata": {},
   "source": [
    "Then I divided by $P(W)$ to get  $1 = \\frac{p(1-q)}{P(W)} + 2pq - p - q +1$"
   ]
  },
  {
   "cell_type": "markdown",
   "metadata": {},
   "source": [
    "Then  $0 = \\frac{p(1-q)}{P(W)} + 2pq - p - q$"
   ]
  },
  {
   "cell_type": "markdown",
   "metadata": {},
   "source": [
    "Then  $ \\frac{p(1-q)}{P(W)} = p + q - 2pq$"
   ]
  },
  {
   "cell_type": "markdown",
   "metadata": {},
   "source": [
    "Then we can replace $ p + q - 2pq $ with $ p(1-q) + q(1-p)$ "
   ]
  },
  {
   "cell_type": "markdown",
   "metadata": {},
   "source": [
    "Which gives us $\\frac{p(1-q)}{P(W)} = p(1-q) + q(1-p)$"
   ]
  },
  {
   "cell_type": "markdown",
   "metadata": {},
   "source": [
    "Dividing out $p(1-q)$ gives us $\\frac{1}{P(W)} = \\frac{p(1-q) + q(1-p)}{p(1-q)}$"
   ]
  },
  {
   "cell_type": "markdown",
   "metadata": {},
   "source": [
    "And finally flipping around everything gives us what we want which is:"
   ]
  },
  {
   "cell_type": "markdown",
   "metadata": {},
   "source": [
    "$$P(W) = \\frac{p(1-q)}{p(1-q) + q(1-p)}$$"
   ]
  },
  {
   "cell_type": "markdown",
   "metadata": {},
   "source": [
    "**Part F**: Explain why the answers to **Part B** and **Part E** are the same. "
   ]
  },
  {
   "cell_type": "markdown",
   "metadata": {
    "collapsed": true
   },
   "source": [
    "The answers in B and E are the same because in Part B, we are proving that Team A wins when the game ends after the first round. And in Part E we are proving (using independent events) that Team A winning is independent of if the game was ever tied. Therefore, both are independent events in respect to Team A winning. $P(W)$ is true if only A scores a goal and B doesnt. Which is in the case of $P(E)$ is only true if A or B wins and $P(T)$ is true if both of them dont win. $P(W)$ is only dependent on if A is the only team scoring a point. $P(E)$ and $P(T)$ are irrelevent to $P(W)$ in all cases. "
   ]
  },
  {
   "cell_type": "markdown",
   "metadata": {},
   "source": [
    "**Part G**: Explain the significance of the solution technique for $P(W)$ outlined in **Part D** and **Part E**.  Why did we go this route instead of computing $P(W)$ directly?  Can we always use such techniques?  "
   ]
  },
  {
   "cell_type": "markdown",
   "metadata": {},
   "source": [
    "The significance is that we can use the advantage of disjoint events to change up the equations. $P(W)$ and $P(W|E)$ are the same because they are disjoint and all we did was break down each part using hte law of total probability. I think if we had a similiar problem, we would be able to to use the same technique, but it would be pointless and more work to get the same exact answer. "
   ]
  },
  {
   "cell_type": "markdown",
   "metadata": {},
   "source": [
    "### [25 points] Problem 3 \n",
    "***\n",
    "\n",
    "After Intro. Data Science lets out for the day, there are a bunch of different locations that Dan and Chris individually end up at.  Sometimes they go get dinner at the UMC ($~U~$) or coffee at Starbucks ($~S~$). Sometimes they go straight to their vehicles in the parking lot ($~P~$) and head home.  And sometimes they go back to their respective offices in the Engineering Center ($~E~$) or Fleming ($~F~$) to work. You can see the locations and paths that they take from Muenzinger ($~M~$) and between other locations on the linked [map](https://www.cs.colorado.edu/~ketelsen/files/courses/csci3022/hmwk/hmwk02/campus_map.pdf).\n",
    "\n",
    "Now, on a Wednesday after a particularly grueling start to the week, Dan and Chris leave class at Muenzinger in a bit of a daze and just sorta wander randomly between their usual haunts.  Their movement is governed by the following rule: when leaving a particular location, they randomly select one of the available paths to travel along (again, see the [map](https://www.cs.colorado.edu/~ketelsen/files/courses/csci3022/hmwk/hmwk02/campus_map.pdf)) with equal probability. "
   ]
  },
  {
   "cell_type": "markdown",
   "metadata": {},
   "source": [
    "**Part A**: Compute (by hand) the probability that Chris ends up at the Engineering Center after first visiting one other location after leaving Muenzinger. "
   ]
  },
  {
   "cell_type": "markdown",
   "metadata": {
    "collapsed": true
   },
   "source": [
    "The paths are:\n",
    "  \n",
    "$ M -> P -> E $     \n",
    "$ M -> U -> E $   \n",
    "\n",
    "and applying probabililty functions to them\n",
    "\n",
    "$P() = P(P|E)P(E)+P(U|E)P(E)$\n",
    "\n",
    "$P() = \\frac{1}{2}*\\frac{1}{4} + \\frac{1}{4}*\\frac{1}{4}$\n",
    "\n",
    "$P() = \\frac{3}{16}$"
   ]
  },
  {
   "cell_type": "markdown",
   "metadata": {},
   "source": [
    "**Part B**: Compute (by hand) the probability that Dan ends up at the UMC _either_ as his first _or_ second location visited after leaving Muenzinger. "
   ]
  },
  {
   "cell_type": "markdown",
   "metadata": {
    "collapsed": true
   },
   "source": [
    "$ M -> S -> M $     \n",
    "$ M -> S -> U $  \n",
    "\n",
    "$ M -> U -> F $     \n",
    "$ M -> U -> S $  \n",
    "$ M -> U -> M $     \n",
    "$ M -> U -> E $  \n",
    "\n",
    "$ M -> E -> F $     \n",
    "$ M -> E -> P $  \n",
    "$ M -> E -> M $     \n",
    "$ M -> E -> U $  \n",
    "\n",
    "$ M -> P -> M $     \n",
    "$ M -> P -> E $ \n",
    "\n",
    "$P(U1) + P(U2) = [P(F|U)P(U)+P(S|U)P(U)+P(M|U)P(U)+P(E|U)P(U)]+[P(U|S)P(S)+P(U|E)P(E)]$  \n",
    "\n",
    "$[\\frac{1}{4}*\\frac{1}{4} + \\frac{1}{4}*\\frac{1}{4} + \\frac{1}{4}*\\frac{1}{4} + \\frac{1}{4}*\\frac{1}{4}] + [\\frac{1}{4}*\\frac{1}{2} + \\frac{1}{4}*\\frac{1}{4}]$\n",
    "\n",
    "Which equals $\\frac{7}{16}$\n",
    "\n",
    "It would be $\\frac{8}{16}$ but since S only has 2 options to choose from it slightly changes the end result in this scenario\n",
    "\n"
   ]
  },
  {
   "cell_type": "markdown",
   "metadata": {},
   "source": [
    "**Part C**: Suppose that Chris goes back to his office in the Engineering Center and Dan goes back to his office in Fleming.  Later that night they both leave their offices and wander around. You should assume that they take the same amount of time to go from location to location.  What is the probability that they run into each other in the same location on their second location visited? "
   ]
  },
  {
   "cell_type": "markdown",
   "metadata": {
    "collapsed": true
   },
   "source": [
    "I calculated that Chris can make it to a 2nd location on 12 different paths. Dan can make it to a second location on 8 different paths. The probaility assuming that each path is unique is $\\frac{1}{96}$. Calculating in the chance Chris and Dan make it to each of the locations on the 2nd stop and the multiplying each locations top by the others chance and then adding up this probabilities gives $\\frac{15}{96}$ which is $\\frac{5}{32}$ chance that they will be at the same location on both of their second stops\n",
    " \n",
    "$E -> M -> S$    \n",
    "$E -> U -> S$  \n",
    "\n",
    "$F -> U -> S$     \n",
    "\n",
    "\n",
    "$P(S|M)P(M)+P(S|U)P(U) * P(S|U)P(U)$  \n",
    "$(1/4*1/4+1/4*1/4)*(1/4*1/4)$  \n",
    "$2/16 * 1/16 = 2/256$  \n",
    "\n",
    "$E -> M -> U$    \n",
    "$E -> F -> U$  \n",
    "\n",
    "$F -> E -> U$     \n",
    "\n",
    "$P(U|M)P(M)+P(U|F)P(F) * P(U|E)P(E)$  \n",
    "$(1/4*1/4+1/4*1/2)*(1/4*1/4)$  \n",
    "$3/16 * 1/16 = 3/256$  \n",
    "\n",
    "$E -> P -> M$    \n",
    "$E -> U -> M$  \n",
    "\n",
    "$F -> E -> M$   \n",
    "$F -> U -> M$  \n",
    "\n",
    "$P(M|P)P(P)+P(M|U)P(U) * P(M|E)P(E)+ P(M|U)P(U)$   \n",
    "$(1/4*1/4+1/4*1/2)*(1/4*1/4+1/4*1/4)$   \n",
    "$3/16 * 2/16 = 6/256$  \n",
    "\n",
    "$E -> M -> P$    \n",
    "\n",
    "$F -> E -> P$   \n",
    "\n",
    "$P(P|M)P(M)* P(P|E)P(E)$\n",
    "$(1/4*1/4)*(1/4*1/4)$\n",
    "$1/16 * 1/16 = 1/256$\n",
    "\n",
    "$E -> U -> E$    \n",
    "$E -> M -> E$  \n",
    "$E -> F -> E$  \n",
    "$E -> P -> E$  \n",
    "\n",
    "$F -> U -> E$   \n",
    "\n",
    "$P(E|U)P(U)+P(E|M)P(M)+P(E|F)P(F)+P(E|P)P(P) * P(E|U)P(U)$  \n",
    "$(1/4*1/4+1/4*1/4+1/4*1/2+1/4*1/2 )* (1/4*1/4)$   \n",
    "$1/16+1/16+2/16+2/16 * 1/16$    \n",
    "$6/16 * 1/16 = 6/256$   \n",
    "\n",
    "$E -> U -> F$      \n",
    "\n",
    "$F -> U -> F$  \n",
    "$F -> E -> F$  \n",
    "\n",
    "$P(F|U)P(U) * P(F|U)P(U)+P(F|E)P(E)$   \n",
    "$1/4*1/4 * 1/4*1/4+1/4*1/4 $  \n",
    "$1/16 * 2/16 = 2/256$   \n",
    "\n",
    "Answer is $2/256 + 3/256 + 6/256 + 1/256 + 6/256 +2/256 = 20/256 = 10/128 = 5/64$"
   ]
  },
  {
   "cell_type": "markdown",
   "metadata": {},
   "source": [
    "**Part D**: Write a simulation to confirm that your by-hand calculations in **Part A**, **Part B**, and **Part C** are correct. Make sure you run your simulations for enough trials that your estimates are reasonably close to your analytic results. In addition to showing your code, you should thoroughly explain in Markdown (not just in code comments) what your code is doing and why it is a reasonable approximation of the probabilities in **Part A**, **Part B**, and **Part C**.  "
   ]
  },
  {
   "cell_type": "markdown",
   "metadata": {
    "collapsed": true
   },
   "source": [
    "Part A:"
   ]
  },
  {
   "cell_type": "code",
   "execution_count": 1046,
   "metadata": {},
   "outputs": [],
   "source": [
    "S = {'location' : np.array([\"M\",\"U\"]), 'probs' : np.array([1/2,1/2])}\n",
    "M = {'location' : np.array([\"S\",\"U\",\"E\",\"P\"]), 'probs' : np.array([1/4,1/4,1/4,1/4])}\n",
    "U = {'location' : np.array([\"F\",\"S\",\"M\",\"E\"]), 'probs' : np.array([1/4,1/4,1/4,1/4])}\n",
    "E = {'location' : np.array([\"M\",\"P\",\"U\",\"F\"]), 'probs' : np.array([1/4,1/4,1/4,1/4])}\n",
    "P = {'location' : np.array([\"M\",\"E\"]), 'probs' : np.array([1/2,1/2])}\n",
    "F = {'location' : np.array([\"E\",\"U\"]), 'probs' : np.array([1/2,1/2])}\n",
    "\n",
    "locationS = {'location' : np.array([M,U]), 'probs' : np.array([1/2,1/2])}\n",
    "locationM = {'location' : np.array([S,U,E,P]), 'probs' : np.array([1/4,1/4,1/4,1/4])}\n",
    "locationU = {'location' : np.array([F,S,M,E]), 'probs' : np.array([1/4,1/4,1/4,1/4])}\n",
    "locationE = {'location' : np.array([M,P,U,F]), 'probs' : np.array([1/4,1/4,1/4,1/4])}\n",
    "locationP = {'location' : np.array([M,E]), 'probs' : np.array([1/2,1/2])}\n",
    "locationF = {'location' : np.array([E,U]), 'probs' : np.array([1/2,1/2])}\n",
    "location1M = np.random.choice(M[\"location\"], p = M['probs'])\n",
    "\n",
    "def pick_location_2(locationM):\n",
    "    locationMM = np.random.choice(locationM[\"location\"], p = locationM['probs'])\n",
    "    return np.random.choice(locationMM[\"location\"], p = locationMM['probs'])\n",
    "\n",
    "def pick_location_1(M):\n",
    "    return np.random.choice(M[\"location\"], p = M['probs']) \n",
    "\n",
    "def prob_of(place,locationM,num_samples=1000):\n",
    "    # get location\n",
    "    locations = np.array([pick_location_2(locationM) for ii in range(num_samples)])\n",
    "    return np.sum(locations == place) / num_samples"
   ]
  },
  {
   "cell_type": "code",
   "execution_count": 1023,
   "metadata": {},
   "outputs": [
    {
     "data": {
      "text/plain": [
       "0.18279999999999999"
      ]
     },
     "execution_count": 1023,
     "metadata": {},
     "output_type": "execute_result"
    }
   ],
   "source": [
    "prob_of(\"E\", locationM, num_samples=5000)"
   ]
  },
  {
   "cell_type": "markdown",
   "metadata": {},
   "source": [
    "My code is finding how many a location shows up in the results. I used a for loop to run the function over and over to figure out the locations, then compared that to the user input location and just added up the values, which would represent the amount the location showed up in the samples. Then dividing that by the total samples gives how often it occurs, which is ~.18888 which is the same as my above fraction $\\frac{3}{16}$"
   ]
  },
  {
   "cell_type": "code",
   "execution_count": 1469,
   "metadata": {},
   "outputs": [],
   "source": [
    "def prob_of_B(place,locationM,M,num_samples=1000):\n",
    "    locations = np.array([pick_location_2(locationM) for ii in range(num_samples)])\n",
    "    location = np.array([pick_location_1(M) for ii in range(num_samples)])\n",
    "\n",
    "    return (np.sum(locations == place)+np.sum(location == place)) / num_samples"
   ]
  },
  {
   "cell_type": "code",
   "execution_count": 1471,
   "metadata": {},
   "outputs": [
    {
     "data": {
      "text/plain": [
       "0.43120000000000003"
      ]
     },
     "execution_count": 1471,
     "metadata": {},
     "output_type": "execute_result"
    }
   ],
   "source": [
    "prob_of_B(\"U\", locationM,M, num_samples=5000)"
   ]
  },
  {
   "cell_type": "markdown",
   "metadata": {},
   "source": [
    "My code is finding how many a location shows up in the results. I used a for loop to run the function over and over to figure out the 1st location and then another for the 2nd location. The we add those because they are independent of each other so we add the probabilities. Dividing this by the sample number gives us arounf ~43% which is exactly what I got above, $\\frac{7}{16}$"
   ]
  },
  {
   "cell_type": "code",
   "execution_count": 1527,
   "metadata": {
    "collapsed": true
   },
   "outputs": [],
   "source": [
    "def prob_of_C(locationE,locationF,num_samples=1000):\n",
    "    locations = np.array([pick_location_2(locationE) for ii in range(num_samples)])\n",
    "    location = np.array([pick_location_2(locationF) for ii in range(num_samples)])\n",
    "    return (np.sum(locations == location)) / (2*num_samples)"
   ]
  },
  {
   "cell_type": "code",
   "execution_count": 1528,
   "metadata": {},
   "outputs": [
    {
     "data": {
      "text/plain": [
       "0.077299999999999994"
      ]
     },
     "execution_count": 1528,
     "metadata": {},
     "output_type": "execute_result"
    }
   ],
   "source": [
    "prob_of_C(locationE,locationF,num_samples=5000)"
   ]
  },
  {
   "cell_type": "markdown",
   "metadata": {},
   "source": [
    "This probability is equal to 5/64, the same answer I got in Part C. I compared the elements in locations to location (E vs F 2nd location) and summed up that value, which would be the occurances of when they meet. Then that divided by the same times 2, because we are dealing with tecnically, two samples. \n",
    "\n",
    "But this also leads me to believe that 5/32 is correct, because im not so sure about my answer of (2\\*num_samples):"
   ]
  },
  {
   "cell_type": "code",
   "execution_count": 1529,
   "metadata": {},
   "outputs": [],
   "source": [
    "def prob_of_C(locationE,locationF,num_samples=1000):\n",
    "    locations = np.array([pick_location_2(locationE) for ii in range(num_samples)])\n",
    "    location = np.array([pick_location_2(locationF) for ii in range(num_samples)])\n",
    "    return (np.sum(locations == location)) / (num_samples)"
   ]
  },
  {
   "cell_type": "code",
   "execution_count": 1530,
   "metadata": {},
   "outputs": [
    {
     "data": {
      "text/plain": [
       "0.16320000000000001"
      ]
     },
     "execution_count": 1530,
     "metadata": {},
     "output_type": "execute_result"
    }
   ],
   "source": [
    "prob_of_C(locationE,locationF,num_samples=5000)"
   ]
  },
  {
   "cell_type": "markdown",
   "metadata": {},
   "source": [
    "This probability is equal to 5/32. I compared the elements in locations to location (E vs F 2nd location) and summed up that value, which would be the occurances of when they meet on both of their second locations. "
   ]
  },
  {
   "cell_type": "markdown",
   "metadata": {},
   "source": [
    "### [20 points] Problem 4 \n",
    "***\n",
    "\n",
    "In this problem you will write some code to simulate the game of **Miniopoly** (a very rough approximation of [Monopoly](https://en.wikipedia.org/wiki/Monopoly_(game)).  The game consists of a round board with 40 \"squares\" numbered from $0$ to $40$, where squares $0$ and $40$ are [coincident](https://en.wikipedia.org/wiki/Coincident) and called **GO**.  A player starts on **GO** with \\$200 in their pocket.  On each turn the player rolls a pair of dice and then moves a number of spaces equal to the sum of the dice.  Landing on different squares have different results: \n",
    "\n",
    "- Squares 2, 7, 17, 22, 33, and 36 cause you to draw a card.  The cards tell you to collect \\$50, \\$100, or \\$200, or pay the bank \\$100 or \\$150.  \n",
    "\n",
    "<p> </p>\n",
    "\n",
    "- Squares 0, 10, and 20 do not trigger any action \n",
    "\n",
    "<p> </p>\n",
    "\n",
    "- Square 30 is **Go To Jail**, which sends the player directly to **Jail** and ends the turn \n",
    "\n",
    "<p> </p>\n",
    "\n",
    "- If a player starts a turn from **Jail** she rolls two dice: \n",
    "\n",
    "    - If the player rolls doubles (i.e. the dice have equal values) the player moves from Square 10 a number of squares equal to the sum of the dice\n",
    "    \n",
    "    - If the player rolls anything other than doubles she pays the bank \\$10 and remains in **Jail** \n",
    "    \n",
    "<p> </p>\n",
    "\n",
    "- If the player passes or lands on **GO** she collects \\$200. \n",
    "\n",
    "<p> </p>\n",
    "\n",
    "- If the player lands on any other square not mentioned above, she pays the bank an amount equal to the square's number (e.g. if she lands on Square 29 she pays the bank \\$29). \n",
    "\n",
    "<p> </p>\n",
    "\n",
    "If at any point the player has \\$0 or less they go bankrupt and the game ends. \n",
    "\n",
    "<br>\n",
    "\n",
    "**Part A**: Complete the function miniopoly_turn below. The function should simulate one turn of Miniopoly.  It should take as arguments the player's current location on the board as well as the player's current cash reserves, and return the player's new location and cash reserves after the turn has completed. Note that if a player goes bankrupt during the game you should return their cash as 0 instead of a negative value.  "
   ]
  },
  {
   "cell_type": "code",
   "execution_count": 1431,
   "metadata": {
    "scrolled": true
   },
   "outputs": [],
   "source": [
    "def miniopoly_turn(state, cash):\n",
    "    die1 = np.random.randint(1, 7)\n",
    "    die2 = np.random.randint(1, 7)\n",
    "    dieSum = die1 + die2\n",
    "    #print(die1)\n",
    "    #print(die2)\n",
    "    #print(dieSum)\n",
    "    newLocation = dieSum + state\n",
    "        #print(newLocation)\n",
    "    if cash !=0:\n",
    "        if state == 30:\n",
    "            if die1 == die2:\n",
    "                state = 10 + dieSum\n",
    "            else:\n",
    "                cash-=10\n",
    "            if cash <= 0:\n",
    "                cash = 0\n",
    "            return state, cash\n",
    "\n",
    "        \n",
    "\n",
    "        if newLocation >= 40:\n",
    "            newLocation-=state\n",
    "            cash+=200\n",
    "\n",
    "        elif newLocation==30:\n",
    "            if cash <= 0:\n",
    "                cash = 0\n",
    "            return newLocation, cash\n",
    "\n",
    "        elif newLocation in (2,7,17,33,36):\n",
    "            drawCard = np.array([50,100,200,-100,-150])\n",
    "            cardCash = np.random.choice(drawCard)\n",
    "            cash += cardCash\n",
    "            if cash <= 0:\n",
    "                cash = 0\n",
    "            return newLocation, cash\n",
    "\n",
    "        elif newLocation in (1,3,4,5,6,8,9,11,12,13,14,15,16,18,19,21,22,23,24,25,26,27,28,29,31,32,34,35,37,38,39):\n",
    "            cash-=newLocation\n",
    "            if cash <= 0:\n",
    "                cash = 0\n",
    "            return newLocation, cash\n",
    "\n",
    "        return newLocation, cash \n",
    "    else:\n",
    "        cash=0\n",
    "        newLocation=0\n",
    "    return newLocation, cash"
   ]
  },
  {
   "cell_type": "markdown",
   "metadata": {},
   "source": [
    "**Part B**: Use your function from **Part A** to Simulate at least 5000 30-turn games of Miniopoly and make a frequency histogram of the player's cash at the end of the game. "
   ]
  },
  {
   "cell_type": "code",
   "execution_count": 1432,
   "metadata": {},
   "outputs": [],
   "source": [
    "state = 0\n",
    "cash = 200\n",
    "\n",
    "def simulation(turns,num_samples=5000):\n",
    "    game=[]\n",
    "    counter=0\n",
    "    for ii in range(num_samples):\n",
    "        state = 0\n",
    "        cash = 200\n",
    "        for turn in range(turns):\n",
    "            state, cash = miniopoly_turn(state, cash)\n",
    "        game.append(cash)\n",
    "    \n",
    "    fig, ax = plt.subplots(figsize=(15,4))\n",
    "    plt.hist(game, normed=False, bins=50)\n",
    "    ax.set_title(\"Ending Cash values over a 30-turn game of Miniopoly\")\n",
    "    plt.ylabel('frequency ');\n",
    "    plt.xlabel('Amunt of cash (in Miniopoly money)');\n",
    "    #game = np.array([miniopoly_turn(state, cash) for ii in range(num_samples)])\n",
    "    return "
   ]
  },
  {
   "cell_type": "code",
   "execution_count": 1433,
   "metadata": {},
   "outputs": [
    {
     "data": {
      "image/png": "[encoded data removed]",
      "text/plain": [
       "<matplotlib.figure.Figure at 0x10fde9518>"
      ]
     },
     "metadata": {},
     "output_type": "display_data"
    }
   ],
   "source": [
    "simulation(30,5000)"
   ]
  },
  {
   "cell_type": "markdown",
   "metadata": {},
   "source": [
    "**Part C**: Use your code from **Part A** to estimate the probability that a player goes bankrupt in the first 30 turns of the game. "
   ]
  },
  {
   "cell_type": "code",
   "execution_count": 1434,
   "metadata": {
    "collapsed": true
   },
   "outputs": [],
   "source": [
    "def prob_of_bankrupt(turns,num_samples=5000):\n",
    "    counter = 0\n",
    "    for ii in range(num_samples):\n",
    "        state = 0\n",
    "        cash = 200\n",
    "        for turn in range(turns):\n",
    "            state, cash = miniopoly_turn(state, cash)\n",
    "        if cash <=0:\n",
    "            counter+=1\n",
    "    return counter/num_samples"
   ]
  },
  {
   "cell_type": "code",
   "execution_count": 1436,
   "metadata": {},
   "outputs": [
    {
     "data": {
      "text/plain": [
       "0.1838"
      ]
     },
     "execution_count": 1436,
     "metadata": {},
     "output_type": "execute_result"
    }
   ],
   "source": [
    "prob_of_bankrupt(30,5000)"
   ]
  },
  {
   "cell_type": "markdown",
   "metadata": {},
   "source": [
    "**Part D**: Use your code from **Part A** to estimate the probability that a player goes bankrupt in the first 30 turns _given_ that they went to **Jail** at least once.  Is a player more or less likely to go bankrupt if they've been to **Jail**?  "
   ]
  },
  {
   "cell_type": "code",
   "execution_count": 1584,
   "metadata": {},
   "outputs": [],
   "source": [
    "def prob_of_bankrupt_jail(turns,num_samples=5000):\n",
    "    counter = 0\n",
    "    jail = 0\n",
    "    for ii in range(num_samples):\n",
    "        state = 0\n",
    "        cash = 200\n",
    "        for turn in range(turns):\n",
    "            if state == 30:\n",
    "                jail+=1\n",
    "            state, cash = miniopoly_turn(state, cash)\n",
    "        if (cash <=0):\n",
    "            if (jail >=1):\n",
    "                counter+=1\n",
    "    return counter/num_samples"
   ]
  },
  {
   "cell_type": "code",
   "execution_count": 1590,
   "metadata": {},
   "outputs": [
    {
     "data": {
      "text/plain": [
       "0.1842"
      ]
     },
     "execution_count": 1590,
     "metadata": {},
     "output_type": "execute_result"
    }
   ],
   "source": [
    "prob_of_bankrupt_jail(30,5000)"
   ]
  },
  {
   "cell_type": "markdown",
   "metadata": {},
   "source": [
    "According to my data, it seems that going to jail gives you a slightly better chance to not go bankrupt. Very slight, as within 1%. But also not confident with these results. Im not sure if I can just use a counter and capture jail time like that. "
   ]
  },
  {
   "cell_type": "markdown",
   "metadata": {},
   "source": [
    "**Part E**: Use your code from **Part A** to estimate the probability that a player goes bankrupt in the first 30 turns _given_ that they passed **Go** two or more times.  Is a player more or less likely to go bankrupt if they've managed to pass **Go** at least twice?"
   ]
  },
  {
   "cell_type": "code",
   "execution_count": 1591,
   "metadata": {
    "collapsed": true
   },
   "outputs": [],
   "source": [
    "def prob_of_bankrupt_go2(turns,num_samples=5000):\n",
    "    counter = 0\n",
    "    \n",
    "    for ii in range(num_samples):\n",
    "        state = 0\n",
    "        cash = 200\n",
    "        goCounter =0\n",
    "        stateCounter = 0\n",
    "        for turn in range(turns):\n",
    "            state, cash = miniopoly_turn(state, cash)\n",
    "            stateCounter+=state\n",
    "            if (stateCounter >=79):\n",
    "                goCounter+=1\n",
    "                \n",
    "        if (cash <=0): \n",
    "            if (goCounter >=2):\n",
    "                counter+=1\n",
    "    return counter/num_samples"
   ]
  },
  {
   "cell_type": "code",
   "execution_count": 1597,
   "metadata": {},
   "outputs": [
    {
     "data": {
      "text/plain": [
       "0.1462"
      ]
     },
     "execution_count": 1597,
     "metadata": {},
     "output_type": "execute_result"
    }
   ],
   "source": [
    "prob_of_bankrupt_go2(30,5000)"
   ]
  },
  {
   "cell_type": "markdown",
   "metadata": {},
   "source": [
    "I have my data wrong here, So im not sure of the answer. "
   ]
  },
  {
   "cell_type": "markdown",
   "metadata": {},
   "source": [
    "### [15 points] Problem 5 \n",
    "***\n",
    "\n",
    "### Board Game Calamity! \n",
    "\n",
    "Dan and Chris have been playing board games for ages. Among the games they play a lot are Miniopoly and a similar game with slightly tweaked rules called **Fakeiopoly!**  Being Data-Nerds, they like to record the details of each game they play for future analysis.  Since the games are similar, they store the results for Miniopoly and Fakeiopoly in the same database.  Unfortunately, their data has been corrupted!  The only data that survived are the states (i.e. square numbers) they were on after each of the first 20 turns as well a the amount of cash they had on hand after each of the first 20 turns. This information is stored in the columns **S1**-**S20** and **C1**-**C20** in the following DataFrame. "
   ]
  },
  {
   "cell_type": "code",
   "execution_count": 4,
   "metadata": {},
   "outputs": [
    {
     "data": {
      "text/html": [
       "<div>\n",
       "<style>\n",
       "    .dataframe thead tr:only-child th {\n",
       "        text-align: right;\n",
       "    }\n",
       "\n",
       "    .dataframe thead th {\n",
       "        text-align: left;\n",
       "    }\n",
       "\n",
       "    .dataframe tbody tr th {\n",
       "        vertical-align: top;\n",
       "    }\n",
       "</style>\n",
       "<table border=\"1\" class=\"dataframe\">\n",
       "  <thead>\n",
       "    <tr style=\"text-align: right;\">\n",
       "      <th></th>\n",
       "      <th>S1</th>\n",
       "      <th>S2</th>\n",
       "      <th>S3</th>\n",
       "      <th>S4</th>\n",
       "      <th>S5</th>\n",
       "      <th>S6</th>\n",
       "      <th>S7</th>\n",
       "      <th>S8</th>\n",
       "      <th>S9</th>\n",
       "      <th>S10</th>\n",
       "      <th>...</th>\n",
       "      <th>C12</th>\n",
       "      <th>C13</th>\n",
       "      <th>C14</th>\n",
       "      <th>C15</th>\n",
       "      <th>C16</th>\n",
       "      <th>C17</th>\n",
       "      <th>C18</th>\n",
       "      <th>C19</th>\n",
       "      <th>C20</th>\n",
       "      <th>Game</th>\n",
       "    </tr>\n",
       "  </thead>\n",
       "  <tbody>\n",
       "    <tr>\n",
       "      <th>0</th>\n",
       "      <td>10</td>\n",
       "      <td>23</td>\n",
       "      <td>33</td>\n",
       "      <td>1</td>\n",
       "      <td>13</td>\n",
       "      <td>22</td>\n",
       "      <td>31</td>\n",
       "      <td>0</td>\n",
       "      <td>6</td>\n",
       "      <td>15</td>\n",
       "      <td>...</td>\n",
       "      <td>437</td>\n",
       "      <td>427</td>\n",
       "      <td>409</td>\n",
       "      <td>380</td>\n",
       "      <td>343</td>\n",
       "      <td>593</td>\n",
       "      <td>582</td>\n",
       "      <td>561</td>\n",
       "      <td>530</td>\n",
       "      <td>fake</td>\n",
       "    </tr>\n",
       "    <tr>\n",
       "      <th>1</th>\n",
       "      <td>4</td>\n",
       "      <td>8</td>\n",
       "      <td>15</td>\n",
       "      <td>21</td>\n",
       "      <td>29</td>\n",
       "      <td>38</td>\n",
       "      <td>3</td>\n",
       "      <td>9</td>\n",
       "      <td>18</td>\n",
       "      <td>25</td>\n",
       "      <td>...</td>\n",
       "      <td>595</td>\n",
       "      <td>584</td>\n",
       "      <td>684</td>\n",
       "      <td>657</td>\n",
       "      <td>622</td>\n",
       "      <td>819</td>\n",
       "      <td>805</td>\n",
       "      <td>705</td>\n",
       "      <td>673</td>\n",
       "      <td>fake</td>\n",
       "    </tr>\n",
       "    <tr>\n",
       "      <th>2</th>\n",
       "      <td>9</td>\n",
       "      <td>17</td>\n",
       "      <td>23</td>\n",
       "      <td>31</td>\n",
       "      <td>39</td>\n",
       "      <td>39</td>\n",
       "      <td>39</td>\n",
       "      <td>39</td>\n",
       "      <td>39</td>\n",
       "      <td>39</td>\n",
       "      <td>...</td>\n",
       "      <td>0</td>\n",
       "      <td>0</td>\n",
       "      <td>0</td>\n",
       "      <td>0</td>\n",
       "      <td>0</td>\n",
       "      <td>0</td>\n",
       "      <td>0</td>\n",
       "      <td>0</td>\n",
       "      <td>0</td>\n",
       "      <td>real</td>\n",
       "    </tr>\n",
       "    <tr>\n",
       "      <th>3</th>\n",
       "      <td>7</td>\n",
       "      <td>10</td>\n",
       "      <td>16</td>\n",
       "      <td>22</td>\n",
       "      <td>31</td>\n",
       "      <td>0</td>\n",
       "      <td>6</td>\n",
       "      <td>13</td>\n",
       "      <td>16</td>\n",
       "      <td>23</td>\n",
       "      <td>...</td>\n",
       "      <td>285</td>\n",
       "      <td>275</td>\n",
       "      <td>265</td>\n",
       "      <td>265</td>\n",
       "      <td>239</td>\n",
       "      <td>202</td>\n",
       "      <td>398</td>\n",
       "      <td>385</td>\n",
       "      <td>362</td>\n",
       "      <td>real</td>\n",
       "    </tr>\n",
       "    <tr>\n",
       "      <th>4</th>\n",
       "      <td>11</td>\n",
       "      <td>23</td>\n",
       "      <td>33</td>\n",
       "      <td>39</td>\n",
       "      <td>39</td>\n",
       "      <td>39</td>\n",
       "      <td>39</td>\n",
       "      <td>39</td>\n",
       "      <td>39</td>\n",
       "      <td>39</td>\n",
       "      <td>...</td>\n",
       "      <td>0</td>\n",
       "      <td>0</td>\n",
       "      <td>0</td>\n",
       "      <td>0</td>\n",
       "      <td>0</td>\n",
       "      <td>0</td>\n",
       "      <td>0</td>\n",
       "      <td>0</td>\n",
       "      <td>0</td>\n",
       "      <td>fake</td>\n",
       "    </tr>\n",
       "  </tbody>\n",
       "</table>\n",
       "<p>5 rows × 41 columns</p>\n",
       "</div>"
      ],
      "text/plain": [
       "   S1  S2  S3  S4  S5  S6  S7  S8  S9  S10  ...   C12  C13  C14  C15  C16  \\\n",
       "0  10  23  33   1  13  22  31   0   6   15  ...   437  427  409  380  343   \n",
       "1   4   8  15  21  29  38   3   9  18   25  ...   595  584  684  657  622   \n",
       "2   9  17  23  31  39  39  39  39  39   39  ...     0    0    0    0    0   \n",
       "3   7  10  16  22  31   0   6  13  16   23  ...   285  275  265  265  239   \n",
       "4  11  23  33  39  39  39  39  39  39   39  ...     0    0    0    0    0   \n",
       "\n",
       "   C17  C18  C19  C20  Game  \n",
       "0  593  582  561  530  fake  \n",
       "1  819  805  705  673  fake  \n",
       "2    0    0    0    0  real  \n",
       "3  202  398  385  362  real  \n",
       "4    0    0    0    0  fake  \n",
       "\n",
       "[5 rows x 41 columns]"
      ]
     },
     "execution_count": 4,
     "metadata": {},
     "output_type": "execute_result"
    }
   ],
   "source": [
    "dfLog = pd.read_csv(\"https://raw.githubusercontent.com/chrisketelsen/csci3022/master/hmwk/hmwk02/game_log.csv\")\n",
    "dfLog.head()"
   ]
  },
  {
   "cell_type": "markdown",
   "metadata": {},
   "source": [
    "You might notice that there is one extra column in the DataFrame called **Game** which describes whether they were playing Miniopoly (labeled real) or Fakeiopoly (labeled fake).  Unfortunately, the **Game** labels only survived in the first half of the DataFrame.  As you can see, the **Game** labels in the second half of the database were lost. "
   ]
  },
  {
   "cell_type": "code",
   "execution_count": 5,
   "metadata": {},
   "outputs": [
    {
     "data": {
      "text/html": [
       "<div>\n",
       "<style>\n",
       "    .dataframe thead tr:only-child th {\n",
       "        text-align: right;\n",
       "    }\n",
       "\n",
       "    .dataframe thead th {\n",
       "        text-align: left;\n",
       "    }\n",
       "\n",
       "    .dataframe tbody tr th {\n",
       "        vertical-align: top;\n",
       "    }\n",
       "</style>\n",
       "<table border=\"1\" class=\"dataframe\">\n",
       "  <thead>\n",
       "    <tr style=\"text-align: right;\">\n",
       "      <th></th>\n",
       "      <th>S1</th>\n",
       "      <th>S2</th>\n",
       "      <th>S3</th>\n",
       "      <th>S4</th>\n",
       "      <th>S5</th>\n",
       "      <th>S6</th>\n",
       "      <th>S7</th>\n",
       "      <th>S8</th>\n",
       "      <th>S9</th>\n",
       "      <th>S10</th>\n",
       "      <th>...</th>\n",
       "      <th>C12</th>\n",
       "      <th>C13</th>\n",
       "      <th>C14</th>\n",
       "      <th>C15</th>\n",
       "      <th>C16</th>\n",
       "      <th>C17</th>\n",
       "      <th>C18</th>\n",
       "      <th>C19</th>\n",
       "      <th>C20</th>\n",
       "      <th>Game</th>\n",
       "    </tr>\n",
       "  </thead>\n",
       "  <tbody>\n",
       "    <tr>\n",
       "      <th>995</th>\n",
       "      <td>5</td>\n",
       "      <td>13</td>\n",
       "      <td>20</td>\n",
       "      <td>22</td>\n",
       "      <td>32</td>\n",
       "      <td>38</td>\n",
       "      <td>7</td>\n",
       "      <td>15</td>\n",
       "      <td>28</td>\n",
       "      <td>0</td>\n",
       "      <td>...</td>\n",
       "      <td>443</td>\n",
       "      <td>420</td>\n",
       "      <td>393</td>\n",
       "      <td>358</td>\n",
       "      <td>558</td>\n",
       "      <td>408</td>\n",
       "      <td>392</td>\n",
       "      <td>364</td>\n",
       "      <td>326</td>\n",
       "      <td>NaN</td>\n",
       "    </tr>\n",
       "    <tr>\n",
       "      <th>996</th>\n",
       "      <td>8</td>\n",
       "      <td>14</td>\n",
       "      <td>18</td>\n",
       "      <td>24</td>\n",
       "      <td>32</td>\n",
       "      <td>39</td>\n",
       "      <td>6</td>\n",
       "      <td>10</td>\n",
       "      <td>14</td>\n",
       "      <td>21</td>\n",
       "      <td>...</td>\n",
       "      <td>158</td>\n",
       "      <td>119</td>\n",
       "      <td>310</td>\n",
       "      <td>292</td>\n",
       "      <td>269</td>\n",
       "      <td>240</td>\n",
       "      <td>290</td>\n",
       "      <td>484</td>\n",
       "      <td>470</td>\n",
       "      <td>NaN</td>\n",
       "    </tr>\n",
       "    <tr>\n",
       "      <th>997</th>\n",
       "      <td>7</td>\n",
       "      <td>14</td>\n",
       "      <td>19</td>\n",
       "      <td>23</td>\n",
       "      <td>33</td>\n",
       "      <td>1</td>\n",
       "      <td>8</td>\n",
       "      <td>15</td>\n",
       "      <td>26</td>\n",
       "      <td>38</td>\n",
       "      <td>...</td>\n",
       "      <td>497</td>\n",
       "      <td>484</td>\n",
       "      <td>465</td>\n",
       "      <td>436</td>\n",
       "      <td>486</td>\n",
       "      <td>686</td>\n",
       "      <td>586</td>\n",
       "      <td>571</td>\n",
       "      <td>545</td>\n",
       "      <td>NaN</td>\n",
       "    </tr>\n",
       "    <tr>\n",
       "      <th>998</th>\n",
       "      <td>5</td>\n",
       "      <td>13</td>\n",
       "      <td>22</td>\n",
       "      <td>29</td>\n",
       "      <td>38</td>\n",
       "      <td>7</td>\n",
       "      <td>16</td>\n",
       "      <td>27</td>\n",
       "      <td>37</td>\n",
       "      <td>8</td>\n",
       "      <td>...</td>\n",
       "      <td>547</td>\n",
       "      <td>520</td>\n",
       "      <td>620</td>\n",
       "      <td>817</td>\n",
       "      <td>801</td>\n",
       "      <td>778</td>\n",
       "      <td>978</td>\n",
       "      <td>1177</td>\n",
       "      <td>1164</td>\n",
       "      <td>NaN</td>\n",
       "    </tr>\n",
       "    <tr>\n",
       "      <th>999</th>\n",
       "      <td>8</td>\n",
       "      <td>13</td>\n",
       "      <td>23</td>\n",
       "      <td>30</td>\n",
       "      <td>30</td>\n",
       "      <td>30</td>\n",
       "      <td>22</td>\n",
       "      <td>28</td>\n",
       "      <td>34</td>\n",
       "      <td>38</td>\n",
       "      <td>...</td>\n",
       "      <td>536</td>\n",
       "      <td>513</td>\n",
       "      <td>482</td>\n",
       "      <td>682</td>\n",
       "      <td>674</td>\n",
       "      <td>660</td>\n",
       "      <td>639</td>\n",
       "      <td>613</td>\n",
       "      <td>579</td>\n",
       "      <td>NaN</td>\n",
       "    </tr>\n",
       "  </tbody>\n",
       "</table>\n",
       "<p>5 rows × 41 columns</p>\n",
       "</div>"
      ],
      "text/plain": [
       "     S1  S2  S3  S4  S5  S6  S7  S8  S9  S10  ...   C12  C13  C14  C15  C16  \\\n",
       "995   5  13  20  22  32  38   7  15  28    0  ...   443  420  393  358  558   \n",
       "996   8  14  18  24  32  39   6  10  14   21  ...   158  119  310  292  269   \n",
       "997   7  14  19  23  33   1   8  15  26   38  ...   497  484  465  436  486   \n",
       "998   5  13  22  29  38   7  16  27  37    8  ...   547  520  620  817  801   \n",
       "999   8  13  23  30  30  30  22  28  34   38  ...   536  513  482  682  674   \n",
       "\n",
       "     C17  C18   C19   C20  Game  \n",
       "995  408  392   364   326   NaN  \n",
       "996  240  290   484   470   NaN  \n",
       "997  686  586   571   545   NaN  \n",
       "998  778  978  1177  1164   NaN  \n",
       "999  660  639   613   579   NaN  \n",
       "\n",
       "[5 rows x 41 columns]"
      ]
     },
     "execution_count": 5,
     "metadata": {},
     "output_type": "execute_result"
    }
   ],
   "source": [
    "dfLog.tail()"
   ]
  },
  {
   "cell_type": "markdown",
   "metadata": {},
   "source": [
    "While they can deal with the loss of information about later turns, doing any kind of meaningful analysis on the data requires knowledge of which game they were playing.  Your job is to see if you can reconstruct the missing **Game** labels in the second half of the DataFrame.  \n",
    "\n",
    "Sadly, Fakeiopoly was a game of their own invention, and the rules were among the lost data.  But, being budding data scientists, you can probably glean some insights into the non-standard rules by exploring the data with intact labels in the first half of the DataFrame. \n",
    "\n",
    "**Part A**: Complete the function predict_game_log below to predict whether each game in the DataFrame is real or fake.  To help you, we've provided a score function that reports the accuracy of your predictions on the rows that have intact labels.  \n",
    "\n",
    "OK, here are the **rules**: \n",
    "\n",
    "- You may **NOT** load any external libraries beyond Pandas, Numpy, and Matplotlib.  Instead of fancy Machine Learning techniques you may have picked up on the streets, you'll have to rely on your probability, heuristics, and exploratory data analysis skills. \n",
    "- You may write any additional functions you like, but you should **NOT** change the way that predict_game_log is called or what it returns. \n",
    "\n",
    "And some final **guidance**: \n",
    "\n",
    "- While we hope you do well, and obtain great accuracies, we're more interested in seeing how you approach the problem.  As part of your solution you should describe in detail how you based your predictions.  A solution with high accuracy and no justification of you approach may receive a low score, while a solution with mediocre accuracy and good justification may receive a high score.  What aspects of the data lead you to believe that your approach might be successful? Supporting evidence might include graphical summaries of the data and extensive description of trial and error. "
   ]
  },
  {
   "cell_type": "code",
   "execution_count": 6,
   "metadata": {
    "collapsed": true
   },
   "outputs": [],
   "source": [
    "def predict_game_log():\n",
    "    '''\n",
    "    Function to read in the corrupted DataFrame and make predictions\n",
    "    about which game is associated with each sequence of states \n",
    "    and cash values.  You should store your predictions (\"real\"/\"fake\")\n",
    "    in the column \"Prediction\" in the DataFrame. \n",
    "    '''\n",
    "    \n",
    "    dfPredict = pd.read_csv(\"https://raw.githubusercontent.com/chrisketelsen/csci3022/master/hmwk/hmwk02/game_log.csv\")\n",
    "    \n",
    "    dfPredict.loc[:, \"Prediction\"] = \"real\"\n",
    "    \n",
    "    return dfPredict "
   ]
  },
  {
   "cell_type": "code",
   "execution_count": 7,
   "metadata": {
    "collapsed": true
   },
   "outputs": [],
   "source": [
    "def score(df):\n",
    "    '''\n",
    "    Function to score your predictions on the labeled game data. \n",
    "    '''\n",
    "    num_samples = len(df.loc[pd.notnull(df[\"Game\"])])\n",
    "    num_correct = np.sum(df.loc[pd.notnull(df[\"Game\"]), \"Game\"] == df.loc[pd.notnull(df[\"Game\"]), \"Prediction\"])\n",
    "    print(\"accuracy on labeled data: {}\".format(num_correct / num_samples))"
   ]
  },
  {
   "cell_type": "code",
   "execution_count": null,
   "metadata": {
    "collapsed": true
   },
   "outputs": [],
   "source": []
  },
  {
   "cell_type": "markdown",
   "metadata": {},
   "source": [
    "**[Extra Credit] Part B**: Based on your exploratory data analysis, can you predict how the rules of Fakeiopoly differ from Miniopoly?  Be sure to thoroughly justify your conclusions. "
   ]
  },
  {
   "cell_type": "code",
   "execution_count": null,
   "metadata": {
    "collapsed": true
   },
   "outputs": [],
   "source": []
  },
  {
   "cell_type": "markdown",
   "metadata": {},
   "source": [
    "### Challenge Problem - Night Falls. A Storm Rolls In. Can You Cross The River?\n",
    "***\n",
    "\n",
    "In every homework assignment we'll give you a Challenge Problem.  Challenge Problems never need to be turned in (and in fact, will not be graded) but we encourage you to give them a shot (after completing the required homework problems) and discuss them with your classmates and your instructors. \n",
    "\n",
    "The following Challenge Problem was a [Riddler](https://fivethirtyeight.com/tag/the-riddler/) on [FiveThirtyEight](https://fivethirtyeight.com) a few years back. \n",
    "\n",
    "You’re on the north shore of a river, and want to cross to the south, via a series of 13 bridges and six islands, which you can see in the diagram below. But, as you approach the water, night falls, a bad storm rolls in, and you’re forced to wait until morning to try to cross. Overnight, the storm could render some of the bridges unusable — it has a 50 percent chance of knocking out each of the bridges. (The chance is independent for each bridge.)\n",
    "\n",
    "<br>\n",
    "\n",
    "![alt text](https://espnfivethirtyeight.files.wordpress.com/2016/01/roeder-riddler-diagram-11.png?w=575&h=449&quality=90&strip=info)\n",
    "\n",
    "<br>\n",
    "\n",
    "What’s the probability you will be able to cross the river in the morning? (You have no boat, can’t swim, can’t fix the bridges, etc. No tricks.)"
   ]
  },
  {
   "cell_type": "code",
   "execution_count": null,
   "metadata": {
    "collapsed": true
   },
   "outputs": [],
   "source": []
  }
 ],
 "metadata": {
  "kernelspec": {
   "display_name": "Python 3",
   "language": "python",
   "name": "python3"
  },
  "language_info": {
   "codemirror_mode": {
    "name": "ipython",
    "version": 3
   },
   "file_extension": ".py",
   "mimetype": "text/x-python",
   "name": "python",
   "nbconvert_exporter": "python",
   "pygments_lexer": "ipython3",
   "version": "3.6.1"
  }
 },
 "nbformat": 4,
 "nbformat_minor": 2
}
