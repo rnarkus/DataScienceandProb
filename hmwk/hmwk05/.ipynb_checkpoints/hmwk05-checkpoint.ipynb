{
 "cells": [
  {
   "cell_type": "markdown",
   "metadata": {},
   "source": [
    "# Homework 5: Confidence Intervals, the Bootstrap, and Autograders\n",
    "***\n",
    "\n",
    "**Name**: Markus Hudobnik\n",
    "\n",
    "**Section**: 002\n",
    "***\n",
    "\n",
    "This assignment is due on Moodle by **5pm on Friday November 10th**. Your solutions to theoretical questions should be done in Markdown/MathJax directly below the associated question.  Your solutions to computational questions should include any specified Python code and results as well as written commentary on your conclusions.  Remember that you are encouraged to discuss the problems with your instructors and classmates, but **you must write all code and solutions on your own**.  For a refresher on the course **Collaboration Policy** click [here](https://github.com/chrisketelsen/csci3022/blob/master/resources/syllabus.md#collaboration-policy).  \n",
    "\n",
    "**NOTES**: \n",
    "\n",
    "- Do **NOT** load or use any Python packages that are not available in Anaconda 3.6. \n",
    "- Some problems with code may be autograded.  If we provide a function API **do not** change it.  If we do not provide a function API then you're free to structure your code however you like. \n",
    "- Because you can technically evaluate notebook cells is a non-linear order, it's a good idea to do Cell $\\rightarrow$ Run All as a check before submitting your solutions.  That way if we need to run your code you will know that it will work as expected. \n",
    "- Submit only this Jupyter notebook to Moodle.  Do not compress it using tar, rar, zip, etc. "
   ]
  },
  {
   "cell_type": "code",
   "execution_count": 1,
   "metadata": {
    "collapsed": true,
    "scrolled": true
   },
   "outputs": [],
   "source": [
    "import numpy as np\n",
    "import random\n",
    "import math\n",
    "import cmath\n",
    "import matplotlib.pylab as plt\n",
    "import pandas as pd\n",
    "import scipy.stats as sp\n",
    "\n",
    "%matplotlib inline"
   ]
  },
  {
   "cell_type": "markdown",
   "metadata": {},
   "source": [
    "### [20 points] Problem 1 - Alcohol Content of Red vs White Wine \n",
    "***\n",
    "\n",
    "Load the data in $\\texttt{winequality-red.csv}$ and $\\texttt{winequality-white.csv}$ into Pandas DataFrames.  A description of this dataset can be found on [Berkeley's Machine Learning Repository](https://archive.ics.uci.edu/ml/datasets/Wine+Quality). The characteristic that we'll be interested in is the wine's alcohol content.  "
   ]
  },
  {
   "cell_type": "code",
   "execution_count": 2,
   "metadata": {},
   "outputs": [
    {
     "data": {
      "text/plain": [
       "0    9.4\n",
       "1    9.8\n",
       "2    9.8\n",
       "3    9.8\n",
       "4    9.4\n",
       "Name: alcohol, dtype: float64"
      ]
     },
     "execution_count": 2,
     "metadata": {},
     "output_type": "execute_result"
    }
   ],
   "source": [
    "dfRedWineRaw = pd.read_csv('winequality-red.csv', sep=\";\")\n",
    "dfWhiteWineRaw = pd.read_csv(\"winequality-white.csv\", sep=\";\")\n",
    "\n",
    "dfRedWine = dfRedWineRaw['alcohol']\n",
    "dfWhiteWine = dfWhiteWineRaw['alcohol']\n",
    "\n",
    "dfRedWine.head()"
   ]
  },
  {
   "cell_type": "markdown",
   "metadata": {},
   "source": [
    "**Part A**: Are we justified in using the assumptions of the Central Limit Theorem in our analysis of estimates of the mean of the data?  Justify your response. "
   ]
  },
  {
   "cell_type": "markdown",
   "metadata": {
    "collapsed": true
   },
   "source": [
    "Yes, because this sample has over 30. Which means the the mean will have a normal distribution. "
   ]
  },
  {
   "cell_type": "markdown",
   "metadata": {},
   "source": [
    "**Part B**: Compute a 95% confidence interval for the mean of the red wine's alcohol content.  Separately, compute a 95% confidence interval for the mean of the white wine's alcohol content. Do all computations in Python. "
   ]
  },
  {
   "cell_type": "code",
   "execution_count": 3,
   "metadata": {
    "collapsed": true
   },
   "outputs": [],
   "source": [
    "rwMean = np.mean(dfRedWine)\n",
    "wwMean = np.mean(dfWhiteWine)\n",
    "rwStd = np.std(dfRedWine)\n",
    "wwStd = np.std(dfWhiteWine)\n",
    "rwSigma = rwStd / math.sqrt(len(dfRedWine))\n",
    "wwSigma = wwStd / math.sqrt(len(dfWhiteWine))"
   ]
  },
  {
   "cell_type": "code",
   "execution_count": 4,
   "metadata": {},
   "outputs": [
    {
     "data": {
      "text/plain": [
       "(10.370766372660029, 10.475199856232976)"
      ]
     },
     "execution_count": 4,
     "metadata": {},
     "output_type": "execute_result"
    }
   ],
   "source": [
    "sp.norm.interval(0.95, rwMean,  rwSigma)"
   ]
  },
  {
   "cell_type": "code",
   "execution_count": 5,
   "metadata": {},
   "outputs": [
    {
     "data": {
      "text/plain": [
       "(10.4798067892256, 10.548727306323675)"
      ]
     },
     "execution_count": 5,
     "metadata": {},
     "output_type": "execute_result"
    }
   ],
   "source": [
    "sp.norm.interval(0.95, wwMean,  wwSigma)"
   ]
  },
  {
   "cell_type": "markdown",
   "metadata": {},
   "source": [
    "**Part C**: Compute the 95% confidence interval for the difference between the means of the alcohol content of red and white wine. "
   ]
  },
  {
   "cell_type": "code",
   "execution_count": 6,
   "metadata": {},
   "outputs": [
    {
     "name": "stdout",
     "output_type": "stream",
     "text": [
      "-0.1538478317916136 -0.028720034864657296\n"
     ]
    }
   ],
   "source": [
    "meanDiff = rwMean - wwMean\n",
    "\n",
    "rwVar = np.var(dfRedWine)\n",
    "wwVar = np.var(dfWhiteWine)\n",
    "\n",
    "stdDiff = math.sqrt(((rwVar)/ (len(dfRedWine))) + ((wwVar)/ (len(dfWhiteWine))))\n",
    "\n",
    "minusStd = (meanDiff - (1.96 * stdDiff))\n",
    "plusStd = (meanDiff + (1.96 * stdDiff))\n",
    "\n",
    "\n",
    "print(minusStd, plusStd)"
   ]
  },
  {
   "cell_type": "markdown",
   "metadata": {},
   "source": [
    "**Part D**: Interpret the confidence interval you computed in **Part C** in one or two sentences.  Can you say that it's likely that there is a difference in mean alcohol content between red and white wine?  "
   ]
  },
  {
   "cell_type": "markdown",
   "metadata": {
    "collapsed": true
   },
   "source": [
    "The data suggests that the White Wine has more alcohol in it, so there is a difference in mean alchol content between red and white Wine. The CI is entirely 0, so that means there is a significant difference in alcohol content! "
   ]
  },
  {
   "cell_type": "markdown",
   "metadata": {},
   "source": [
    "### [15 points] Problem 2: Election Polling\n",
    "***\n",
    "\n",
    "On the eve of an important senate seat election, a pollster polls a simple random sample of the population and asks which candidate they plan to vote for on the following day. In particular, the pollster asks if the respondents plan to vote for Candidate A, Candidate B, or some other candidate.  The results of the poll can be found in the following table: \n",
    "\n",
    "\\begin{array}{ccc}\n",
    "\\hline \n",
    "\\textrm{Candidate A} & \\textrm{Candidate B} & \\textrm{Other} \\\\\n",
    "\\hline \n",
    "1204 & 1099 & 205  \\\\\n",
    "\\hline \n",
    "\\end{array}\n",
    "\n",
    "**Part A**: Poll results are typically reported as a predicted **percentage** of the electorate plus or minus a margin of error, i.e. $\\texttt{percentage} \\pm \\texttt{margin}$.  Express the poll results for Candidates A and B in the specified format at the 95% confidence level. "
   ]
  },
  {
   "cell_type": "code",
   "execution_count": 7,
   "metadata": {
    "collapsed": true
   },
   "outputs": [],
   "source": [
    "total = (1204+1099+205)\n",
    "candidateA = 1204/total\n",
    "candidateB = 1099/total\n",
    "candidateAMargin = 1.96 * math.sqrt((candidateA*(1-candidateA))/total)\n",
    "candidateBMargin = 1.96 * math.sqrt((candidateB*(1-candidateB))/total)"
   ]
  },
  {
   "cell_type": "code",
   "execution_count": 8,
   "metadata": {},
   "outputs": [
    {
     "name": "stdout",
     "output_type": "stream",
     "text": [
      "Candidate A: 48.01%, ± 1.96%\n",
      "Candidate B: 43.82%, ± 1.94% \n"
     ]
    }
   ],
   "source": [
    "print(\"Candidate A: {:0.2f}%, ± {:0.2f}%\".format(100 * candidateA, 100 * candidateAMargin))\n",
    "print(\"Candidate B: {:0.2f}%, ± {:0.2f}% \".format(100 * candidateB, 100 * candidateBMargin))"
   ]
  },
  {
   "cell_type": "markdown",
   "metadata": {},
   "source": [
    "**Part B**: Express the poll results as 95% confidence intervals.  Based on these results, would it be responsible for a newspaper to definitely call the election for a particular candidate? Clearly justify your response. "
   ]
  },
  {
   "cell_type": "markdown",
   "metadata": {
    "collapsed": true
   },
   "source": [
    "Yes, since the margin of error is still not impededing on the other candidates margins of error. Therefore, the newspaper could confidently say that Candidate A will win based on this sample. "
   ]
  },
  {
   "cell_type": "markdown",
   "metadata": {},
   "source": [
    "**Part C**: In the run-up to the next election, the pollster is designing a poll of a city council race between two relatively unknown candidates.  Without having any prior data, how many respondents does the pollster need responses from to guarantee that she will get at most a 2% margin of error at the 95% confidence level? Be sure to **clearly** justify your reasoning.  \n",
    "\n",
    "**Hint**: Recall that when computing confidence intervals for proportions we use the actual sample proportions to approximate the variance.  How can you get a worst-case scenario estimate of the variance when the sample proportion is not known _a priori_? \n"
   ]
  },
  {
   "cell_type": "code",
   "execution_count": 9,
   "metadata": {},
   "outputs": [
    {
     "name": "stdout",
     "output_type": "stream",
     "text": [
      "1225.0\n"
     ]
    }
   ],
   "source": [
    "n = ((1.96)*0.5*(1-0.5))/(0.02**2)\n",
    "print(n)"
   ]
  },
  {
   "cell_type": "code",
   "execution_count": 10,
   "metadata": {},
   "outputs": [
    {
     "name": "stdout",
     "output_type": "stream",
     "text": [
      "2401.0\n"
     ]
    }
   ],
   "source": [
    "n = ((1.96/0.02)**2)*0.5*(1-0.5)\n",
    "print(n)"
   ]
  },
  {
   "cell_type": "markdown",
   "metadata": {},
   "source": [
    "This is the minimum sample size, therefore we should round up to 601. In order to construct a 95% confidence interval with a margin of error of 2%, we should obtain a sample of at least n = 2401."
   ]
  },
  {
   "cell_type": "markdown",
   "metadata": {},
   "source": [
    "### [15 points] Problem 3 - Have Opinions on Marijuana Legalization Changed? \n",
    "***\n",
    "\n",
    "The General Social Survey (GSS) has been collecting demographic, behavioral, and attitudinal information since 1972 to monitor changes within the US and to compare the US to other nations. Support for the legalization of marijuana in the US is shown for 2010 and in 2016 in the following table:\n",
    "\n",
    "\n",
    "\\begin{array}{cccc}\n",
    "\\hline\n",
    "\\textrm{Year} & \\textrm{Favor} & \\textrm{Oppose} & \\textrm{Total} \\\\ \n",
    "\\hline\n",
    "\\textrm{2010} & \\textrm{603} & \\textrm{656} & \\textrm{1259} \\\\\n",
    "\\textrm{2016} & \\textrm{1126} & \\textrm{717} & \\textrm{1843} \\\\\n",
    "\\hline\n",
    "\\end{array}\n",
    "\n",
    "\n",
    "**Part A**: Find a 95% confidence interval for the change in the proportion supporting marijuana legalization from 2010 to 2016. Use Python for all computations and show your work. "
   ]
  },
  {
   "cell_type": "code",
   "execution_count": 11,
   "metadata": {
    "collapsed": true
   },
   "outputs": [],
   "source": [
    "t2k10 = 1259\n",
    "t2k16 = 1843\n",
    "p2k10 = 603/t2k10\n",
    "p2k16 = 1126/t2k16"
   ]
  },
  {
   "cell_type": "code",
   "execution_count": 12,
   "metadata": {},
   "outputs": [
    {
     "name": "stdout",
     "output_type": "stream",
     "text": [
      "-0.09655579143979542\n",
      "-0.16746189219840035\n"
     ]
    }
   ],
   "source": [
    "diffProp = p2k10 - p2k16\n",
    "\n",
    "margin = 1.96 * math.sqrt(((p2k10*(1-p2k10))/t2k10) + ((p2k16*(1-p2k16))/t2k16))\n",
    "\n",
    "\n",
    "print(diffProp + margin)\n",
    "print(diffProp - margin)"
   ]
  },
  {
   "cell_type": "markdown",
   "metadata": {},
   "source": [
    "**Part B**: Is it likely that the proportion supporting marijuana legalization changed between 2010 and 2016? Justify your conclusion using the ideas of statistical inference and your results from **Part A**. "
   ]
  },
  {
   "cell_type": "markdown",
   "metadata": {
    "collapsed": true
   },
   "source": [
    "yes, it seems as if 2016 favors is significantly different than 2010. The CI is entirely below 0, making the 2016 data more different than 2010. The confidence interval is between 9.6% and 16.7% and doesnt cover 0."
   ]
  },
  {
   "cell_type": "markdown",
   "metadata": {},
   "source": [
    "### [20 points] Problem 4 - Exploring Confidence Intervals \n",
    "***\n",
    "\n",
    "The so-called [Chi-squared](https://en.wikipedia.org/wiki/Chi-squared_distribution) distribution is important in several statistical tests.  It's also fairly asymmetric, and thus interesting for investigating confidence intervals.  It is implemented in scipy.stats as [chi2](https://docs.scipy.org/doc/scipy-0.19.1/reference/generated/scipy.stats.chi2.html). \n"
   ]
  },
  {
   "cell_type": "code",
   "execution_count": 13,
   "metadata": {
    "collapsed": true
   },
   "outputs": [],
   "source": [
    "from scipy.stats import chi2"
   ]
  },
  {
   "cell_type": "markdown",
   "metadata": {},
   "source": [
    "**Part A**: Complete the following code cell to plot a histogram of realizations from the Chi-squared distribution with parameter $K=3$. "
   ]
  },
  {
   "cell_type": "code",
   "execution_count": 14,
   "metadata": {
    "scrolled": false
   },
   "outputs": [
    {
     "data": {
      "text/plain": [
       "<matplotlib.text.Text at 0x110f1a9b0>"
      ]
     },
     "execution_count": 14,
     "metadata": {},
     "output_type": "execute_result"
    },
    {
     "data": {
      "image/png": "[encoded data removed]",
      "text/plain": [
       "<matplotlib.figure.Figure at 0x119a49668>"
      ]
     },
     "metadata": {},
     "output_type": "display_data"
    }
   ],
   "source": [
    "k = 3 \n",
    "x = chi2.rvs(k, size=10000)\n",
    "\n",
    "dfChiSample = pd.DataFrame()\n",
    "dfChiSample[\"x\"] = x\n",
    "fig, ax = plt.subplots(nrows=1, ncols=1, figsize=(12,6))\n",
    "# TODO \n",
    "dfChiSample.hist( ax=ax, bins = 20, facecolor=\"purple\", edgecolor=\"white\")\n",
    "ax.set_title(\"Chi-squared: Histogram of Realizations\", fontsize=20)\n",
    "ax.set_xlabel(\"Number\", fontsize=16)\n",
    "ax.set_ylabel(\"Frequency\", fontsize=16)"
   ]
  },
  {
   "cell_type": "markdown",
   "metadata": {},
   "source": [
    "**Part B**: Look up the mean and variance of the Chi-squared distribution with parameter $k=3$ and report them here. "
   ]
  },
  {
   "cell_type": "markdown",
   "metadata": {
    "collapsed": true
   },
   "source": [
    "mean = k\n",
    "variance = 2k\n",
    "\n",
    "mean = 3\n",
    "variance = 6"
   ]
  },
  {
   "cell_type": "markdown",
   "metadata": {},
   "source": [
    "**Part C**: In this part you'll write a function to investigate the _coverage properties_ of a confidence interval for the mean of the Chi-squared distribution. Complete the following function to randomly sample $m=500$ sample means with sample size $n=100$ for the Chi-squared distribution with parameter $k=3$.  For each random sample, compute the 95% confidence interval for the mean.  Your function should do two things: \n",
    "\n",
    "1. Report the proportion of confidence intervals that successfully cover the true mean of the distribution \n",
    "2. Make a plot of 50 randomly selected confidence intervals. Overlay the intervals on the line $y=\\mu$ where $\\mu$ is the true mean of the distribution. Color confidence intervals black if they cover the true mean, and red if they don't.  "
   ]
  },
  {
   "cell_type": "code",
   "execution_count": 15,
   "metadata": {
    "collapsed": true
   },
   "outputs": [],
   "source": [
    "def confidence_intervals(m=500, n=100):\n",
    "    count=0\n",
    "    array = []\n",
    "    fig, ax = plt.subplots(nrows=1, ncols=1, figsize=(24,6))\n",
    "    \n",
    "    # Get the true mean and variance of the distribution \n",
    "    mean, var = chi2.stats(3, moments='mv')\n",
    "    \n",
    "    ax.plot([0,50], [mean, mean], color=\"steelblue\", ls='-', lw=3)\n",
    "    \n",
    "    # Draw m independent samples of size n \n",
    "    for sId in range(m):\n",
    "        # Draw samples  \n",
    "        x = chi2.rvs(3, size=n)\n",
    "        xbar = np.mean(x)\n",
    "        z = 1.96 \n",
    "        CImin = xbar-z*(np.std(x)/(math.sqrt(n))) \n",
    "        CImax = xbar+z*(np.std(x)/(math.sqrt(n)))\n",
    "        array.append([CImin, CImax])\n",
    "        if mean > CImin and mean < CImax:\n",
    "            count+=1\n",
    "        \n",
    "        \n",
    "    print(count/500) \n",
    "    randomChi2 = [random.choice(array) for i in range(50)]\n",
    "    for sId in range(50):\n",
    "        CImin, CImax = randomChi2[sId]\n",
    "        ax.plot([sId, sId], [CImin, CImax])\n",
    "        if mean > CImin and mean < CImax:\n",
    "            ax.plot([sId, sId], [CImin, CImax], 'black')\n",
    "        else:\n",
    "            ax.plot([sId, sId], [CImin, CImax], 'red')\n",
    "    \n",
    "    \n",
    "    ax.set_xlim([-1,51])\n",
    "    plt.xticks(range(51), fontsize=12)"
   ]
  },
  {
   "cell_type": "code",
   "execution_count": 16,
   "metadata": {
    "scrolled": false
   },
   "outputs": [
    {
     "name": "stdout",
     "output_type": "stream",
     "text": [
      "0.934\n"
     ]
    },
    {
     "data": {
      "image/png": "[encoded data removed]",
      "text/plain": [
       "<matplotlib.figure.Figure at 0x11a098828>"
      ]
     },
     "metadata": {},
     "output_type": "display_data"
    }
   ],
   "source": [
    "confidence_intervals()"
   ]
  },
  {
   "cell_type": "markdown",
   "metadata": {},
   "source": [
    "**Part D**: Does the proportion of confidence intervals that cover the true mean of the distribution agree with the theory described in class?  Justify your conclusion. "
   ]
  },
  {
   "cell_type": "markdown",
   "metadata": {
    "collapsed": true
   },
   "source": [
    "Yes, because our proportion is roughly 96%, meaning that this is a good estimate"
   ]
  },
  {
   "cell_type": "markdown",
   "metadata": {},
   "source": [
    "### [20 points] Problem 5 - Bootstrapped Confidence Intervals \n",
    "***\n",
    "\n",
    "An important feature in online advertising is the so-called _dwell time_, or the amount of time that a user spends viewing a particular piece of content. The data in dwell_times.csv contains the dwell times (in minutes) for 500 randomly selected users viewing an article on a website.  \n"
   ]
  },
  {
   "cell_type": "markdown",
   "metadata": {},
   "source": [
    "**Part A**: Read in the data from dwell_times.csv and create a frequency histogram with 20 bins. "
   ]
  },
  {
   "cell_type": "code",
   "execution_count": 53,
   "metadata": {},
   "outputs": [
    {
     "data": {
      "text/plain": [
       "<matplotlib.text.Text at 0x11a087048>"
      ]
     },
     "execution_count": 53,
     "metadata": {},
     "output_type": "execute_result"
    },
    {
     "data": {
      "image/png": "[encoded data removed]",
      "text/plain": [
       "<matplotlib.figure.Figure at 0x11d966fd0>"
      ]
     },
     "metadata": {},
     "output_type": "display_data"
    }
   ],
   "source": [
    "dfDwell = pd.read_csv('dwell_times.csv')\n",
    "\n",
    "\n",
    "fig, ax = plt.subplots(nrows=1, ncols=1, figsize=(15,6))\n",
    "\n",
    "dfDwell.hist( ax=ax, bins = 20, facecolor=\"red\", edgecolor=\"white\")\n",
    "ax.set_title(\"Time spent Dwelling on a piece of Content\", fontsize=20)\n",
    "ax.set_xlabel(\"Time spent Dwelling\", fontsize=16)\n",
    "ax.set_ylabel(\"Frequency\", fontsize=16)"
   ]
  },
  {
   "cell_type": "code",
   "execution_count": null,
   "metadata": {
    "collapsed": true
   },
   "outputs": [],
   "source": []
  },
  {
   "cell_type": "markdown",
   "metadata": {},
   "source": [
    "**Part B**: Complete the function dwell_mean below to create an empirical bootstrapped confidence interval at the 95% confidence level for the mean dwell time.  Use at least 5000 bootstrap resamples. In addition to returning the confidence interval, your function should also plot a histogram of the bootstrap resample means, along with some graphical representation of the 95% confidence interval. "
   ]
  },
  {
   "cell_type": "code",
   "execution_count": 161,
   "metadata": {
    "collapsed": true
   },
   "outputs": [],
   "source": [
    "def dwell_mean(dfDwell, num_boots=5000, isPlot=False):\n",
    "    xbarArray = []\n",
    "    for i in range(num_boots):\n",
    "        x = dfDwell.sample(frac=1, replace=True)\n",
    "        y = x.values.tolist()\n",
    "        xbar = np.mean(y)\n",
    "        xbarArray.append(xbar)\n",
    "        \n",
    "    \n",
    "    dfPlot = pd.DataFrame()\n",
    "    dfPlot['x'] = xbarArray\n",
    "\n",
    "    CImin, CImax = sp.norm.interval(0.95, np.mean(xbarArray), np.std(xbarArray))\n",
    "    \n",
    "    CI = np.array([CImin, CImax])\n",
    "    \n",
    "    if isPlot: \n",
    "        # TODO plot histogram \n",
    "        fig, ax = plt.subplots(nrows=1, ncols=1, figsize=(12,6))\n",
    "        dfPlot['x'].hist(ax=ax, bins = 20, facecolor=\"blue\", edgecolor=\"white\")\n",
    "        ax.set_title(\"(Mean) Time spent dwelling Bootstrap 5000 resamples\", fontsize=20)\n",
    "        ax.set_xlabel(\"Mean Time spent Dwelling\", fontsize=16)\n",
    "        ax.set_ylabel(\"Frequency\", fontsize=16)\n",
    "        plt.plot((CImin, CImax), (0, 0), 'red',linewidth=10.0)\n",
    "    \n",
    "    return CI "
   ]
  },
  {
   "cell_type": "code",
   "execution_count": 162,
   "metadata": {},
   "outputs": [
    {
     "data": {
      "text/plain": [
       "array([ 8.04008717,  8.84702661])"
      ]
     },
     "execution_count": 162,
     "metadata": {},
     "output_type": "execute_result"
    },
    {
     "data": {
      "image/png": "[encoded data removed]",
      "text/plain": [
       "<matplotlib.figure.Figure at 0x11e1cce10>"
      ]
     },
     "metadata": {},
     "output_type": "display_data"
    }
   ],
   "source": [
    "dwell_mean(dfDwell,5000,True)"
   ]
  },
  {
   "cell_type": "markdown",
   "metadata": {},
   "source": [
    "**Part C**: Suppose you are told that the actual dwell times in dwell_times.csv were sampled from a [LogNormal]() distribution with parameters $\\mu=2$ and $\\sigma^2 = \\frac{1}{4}$. Go to the linked Wiki page and read about the LogNormal distribution.  Then compute the exact **mean**, **median**, and **standard deviation** of the distribution for the given parameters and report them here. "
   ]
  },
  {
   "cell_type": "markdown",
   "metadata": {
    "collapsed": true
   },
   "source": [
    "mean = ${ \\exp(\\mu +\\sigma ^{2}/2)} = { \\exp(2 + 0.25/2)} = 8.3728$       \n",
    "median = $exp(\\mu) = exp(2) = 7.389$     \n",
    "variance = $exp(2\\mu + \\sigma^{2})(exp(\\sigma^{2})-1) = exp(4 + 0.25)(exp(0.25)-1) = 19.911$        \n",
    "std = $\\sqrt{variance} = \\sqrt{19.911} = 4.462$    "
   ]
  },
  {
   "cell_type": "markdown",
   "metadata": {},
   "source": [
    "**Part D**: Use the true standard deviation of the distribution to compute a traditional 95% confidence interval for the sample mean of the dwell time data.  Compare the traditional 95% confidence interval to the bootstrapped 95% confidence interval. Do both confidence intervals cover the true mean?  Do both confidence intervals have roughly the same width?   "
   ]
  },
  {
   "cell_type": "code",
   "execution_count": 158,
   "metadata": {},
   "outputs": [
    {
     "name": "stdout",
     "output_type": "stream",
     "text": [
      "True:\n",
      "[[ 8.05403583]\n",
      " [ 8.83624455]]\n",
      "Bootstrap:\n",
      "[ 8.04503822  8.84160328]\n"
     ]
    }
   ],
   "source": [
    "CImin, CImax = sp.norm.interval(0.95, np.mean(dfDwell), 4.462/math.sqrt(500))\n",
    "\n",
    "CI = np.array([CImin, CImax])\n",
    "print(\"True:\")\n",
    "print(CI)\n",
    "\n",
    "print(\"Bootstrap:\")\n",
    "print(dwell_mean(dfDwell,5000))"
   ]
  },
  {
   "cell_type": "markdown",
   "metadata": {},
   "source": [
    " Yes, they both cover the true mean of $8.3728$. They do overlap the mean with relatively the same width, which means that the bootstrap worked"
   ]
  },
  {
   "cell_type": "markdown",
   "metadata": {},
   "source": [
    "**Part E**: Complete the function dwell_stdev below to create an empirical bootstrapped confidence interval at the 95% confidence level for the standard deviation of dwell time.  Use at least 5000 bootstrapped resamples. In addition to returning the confidence interval, your function should also plot a histogram of the bootstrap resample standard deviations including some graphical indication of the 95% confidence interval.  "
   ]
  },
  {
   "cell_type": "code",
   "execution_count": 134,
   "metadata": {
    "collapsed": true
   },
   "outputs": [],
   "source": [
    "def dwell_stdev(dfDwell, num_boots=5000, isPlot=False):\n",
    "    stdbarArray = []\n",
    "    for i in range(num_boots):\n",
    "        x = dfDwell.sample(frac=1, replace=True)\n",
    "        y = x.values.tolist()\n",
    "        stdbar = np.std(y)\n",
    "        stdbarArray.append(stdbar)\n",
    "        \n",
    "    \n",
    "    dfPlot = pd.DataFrame()\n",
    "    dfPlot['x'] = stdbarArray\n",
    "\n",
    "    CImin, CImax = sp.norm.interval(0.95, np.mean(stdbarArray), np.std(stdbarArray))\n",
    "    \n",
    "    CI = np.array([CImin, CImax])\n",
    "    \n",
    "    if isPlot: \n",
    "        # TODO plot histogram \n",
    "        fig, ax = plt.subplots(nrows=1, ncols=1, figsize=(12,6))\n",
    "        dfPlot['x'].hist(ax=ax, bins = 20, facecolor=\"blue\", edgecolor=\"white\")\n",
    "        ax.set_title(\"(Std Dev.) Time spent dwelling Bootstrap 5000 resamples\", fontsize=20)\n",
    "        ax.set_xlabel(\"Std Dev. Time spent Dwelling\", fontsize=16)\n",
    "        ax.set_ylabel(\"Frequency\", fontsize=16)\n",
    "        plt.plot((CImin, CImax), (0, 0), 'red',linewidth=10.0)\n",
    "    \n",
    "    return CI  "
   ]
  },
  {
   "cell_type": "code",
   "execution_count": 135,
   "metadata": {},
   "outputs": [
    {
     "data": {
      "text/plain": [
       "array([ 4.03429306,  5.09106305])"
      ]
     },
     "execution_count": 135,
     "metadata": {},
     "output_type": "execute_result"
    },
    {
     "data": {
      "image/png": "[encoded data removed]",
      "text/plain": [
       "<matplotlib.figure.Figure at 0x11df4a400>"
      ]
     },
     "metadata": {},
     "output_type": "display_data"
    }
   ],
   "source": [
    "dwell_stdev(dfDwell,5000,True)"
   ]
  },
  {
   "cell_type": "markdown",
   "metadata": {},
   "source": [
    "**Part F**: Does the true standard deviation of the distribution fall inside your 95% bootstrapped confidence interval? "
   ]
  },
  {
   "cell_type": "code",
   "execution_count": 136,
   "metadata": {},
   "outputs": [
    {
     "name": "stdout",
     "output_type": "stream",
     "text": [
      "Bootstrap:\n",
      "[ 4.04369024  5.11733846]\n"
     ]
    }
   ],
   "source": [
    "print(\"Bootstrap:\")\n",
    "print(dwell_stdev(dfDwell,5000))"
   ]
  },
  {
   "cell_type": "markdown",
   "metadata": {},
   "source": [
    "Yes it does! The true STD was 4.462, and the Bootstrap covers it!"
   ]
  },
  {
   "cell_type": "markdown",
   "metadata": {},
   "source": [
    "**Part G**: Complete the function dwell_med below to create an empirical bootstrapped confidence interval at the 95% confidence level for the median dwell time.  Use at least 5000 bootstrap resamples. In addition to returning the confidence interval, your function should also plot a histogram of the bootstrap resample medians including some graphical indication of the 95% confidence interval.  "
   ]
  },
  {
   "cell_type": "code",
   "execution_count": 137,
   "metadata": {
    "collapsed": true
   },
   "outputs": [],
   "source": [
    "def dwell_med(dfDwell, num_boots=5000, isPlot=False):\n",
    "    medBarArray = []\n",
    "    for i in range(num_boots):\n",
    "        x = dfDwell.sample(frac=1, replace=True)\n",
    "        y = x.values.tolist()\n",
    "        medBar = np.median(y)\n",
    "        medBarArray.append(medBar)\n",
    "        \n",
    "    \n",
    "    dfPlot = pd.DataFrame()\n",
    "    dfPlot['x'] = medBarArray\n",
    "\n",
    "    CImin, CImax = sp.norm.interval(0.95, np.mean(medBarArray), np.std(medBarArray))\n",
    "    \n",
    "    CI = np.array([CImin, CImax])\n",
    "    \n",
    "    if isPlot: \n",
    "        # TODO plot histogram \n",
    "        fig, ax = plt.subplots(nrows=1, ncols=1, figsize=(12,6))\n",
    "        dfPlot['x'].hist(ax=ax, bins = 20, facecolor=\"blue\", edgecolor=\"white\")\n",
    "        ax.set_title(\"(Median) Time spent dwelling Bootstrap 5000 resamples\", fontsize=20)\n",
    "        ax.set_xlabel(\"Median Time spent Dwelling\", fontsize=16)\n",
    "        ax.set_ylabel(\"Frequency\", fontsize=16)\n",
    "        plt.plot((CImin, CImax), (0, 0), 'red',linewidth=10.0)\n",
    "    \n",
    "    return CI  "
   ]
  },
  {
   "cell_type": "code",
   "execution_count": 138,
   "metadata": {},
   "outputs": [
    {
     "data": {
      "text/plain": [
       "array([ 7.06403085,  8.01776171])"
      ]
     },
     "execution_count": 138,
     "metadata": {},
     "output_type": "execute_result"
    },
    {
     "data": {
      "image/png": "[encoded data removed]",
      "text/plain": [
       "<matplotlib.figure.Figure at 0x11dc43da0>"
      ]
     },
     "metadata": {},
     "output_type": "display_data"
    }
   ],
   "source": [
    "dwell_med(dfDwell,5000,True)"
   ]
  },
  {
   "cell_type": "markdown",
   "metadata": {},
   "source": [
    "**Part H**: Does the true median of the distribution fall inside your 95% bootstrapped confidence interval? "
   ]
  },
  {
   "cell_type": "code",
   "execution_count": 139,
   "metadata": {},
   "outputs": [
    {
     "name": "stdout",
     "output_type": "stream",
     "text": [
      "Bootstrap:\n",
      "[ 7.07538891  8.01920789]\n"
     ]
    }
   ],
   "source": [
    "print(\"Bootstrap:\")\n",
    "print(dwell_med(dfDwell,5000))"
   ]
  },
  {
   "cell_type": "markdown",
   "metadata": {},
   "source": [
    "Yes it does! The true median of the Distribution was 7.389, and the Bootstrap covers it!"
   ]
  },
  {
   "cell_type": "markdown",
   "metadata": {},
   "source": [
    "### [15 points] Problem 6 - Autograding Simulation Homework \n",
    "***\n",
    "\n",
    "Suppose that you are the grader for an Introduction to Data Science course and your boss has asked you to write an autograder for a homework problem on simulation.  Specifically, students have been asked to write a simulation to estimate the expected number of rolls it will take until doubles are rolled with a pair of fair, six-sided dice (i.e. until both dice show the same value).  The students have been asked to structure their code so that it runs many trials of the experiment and returns the sample mean of the trials, as well as an array containing the result of each individual trial. \n",
    "\n",
    "The solutions submitted by three students in the course are given below. "
   ]
  },
  {
   "cell_type": "code",
   "execution_count": 140,
   "metadata": {
    "collapsed": true
   },
   "outputs": [],
   "source": [
    "def student1(num_trials=5000):\n",
    "    t = np.zeros(num_trials)\n",
    "    for ii in range(num_trials):\n",
    "        ctr = 0\n",
    "        while np.random.choice([1,2,3,4,5,6]) != np.random.choice([1,2,3,4,5,6]):\n",
    "            ctr += 1 \n",
    "        t[ii] = ctr \n",
    "    return np.mean(t), t\n",
    "\n",
    "def student2(num_trials=5000):\n",
    "    t = np.zeros(num_trials)\n",
    "    for ii in range(num_trials):\n",
    "        ctr = 1\n",
    "        while int(6*np.random.uniform(0,1)+1) != int(6*np.random.uniform(0,1)+1):\n",
    "            ctr += 1 \n",
    "        t[ii] = ctr \n",
    "    return np.mean(t), t\n",
    "\n",
    "def student3(num_trials=5000):\n",
    "    t = np.random.exponential(6, size=num_trials)\n",
    "    return np.mean(t), t "
   ]
  },
  {
   "cell_type": "code",
   "execution_count": null,
   "metadata": {
    "collapsed": true
   },
   "outputs": [],
   "source": []
  },
  {
   "cell_type": "markdown",
   "metadata": {},
   "source": [
    "Now, you landed this job at the last minute, and your probability theory is a little rusty.  Luckily, your boss has given you her solution to the problem which is shown below: "
   ]
  },
  {
   "cell_type": "code",
   "execution_count": 141,
   "metadata": {
    "collapsed": true
   },
   "outputs": [],
   "source": [
    "def prof(num_trials=5000):\n",
    "    t = np.random.geometric(1/6, size=num_trials)\n",
    "    return np.mean(t), t"
   ]
  },
  {
   "cell_type": "markdown",
   "metadata": {},
   "source": [
    "Knowing that your probability theory is rusty, your boss has suggested that your autograder be constructed solely based on confidence intervals to compare the students' estimates of the expected value of the experiment to her own estimate.  Finally, although there are only examples from three students above, there are actually more than 100 students in the course, so tailoring your tests to features of individual students' code is out of the question. \n",
    "\n",
    "**Part A**: Complete the function autograder below, which takes in the realizations of the trials from your professor's code and one of the students' codes, as well as the $\\alpha$ for a $100(1-\\alpha)\\%$ confidence interval and returns a string indicating whether the student passed or failed the test. **Clearly** indicate what statistical test(s) your autograder is using and why this is a good idea.  Then demonstrate the use of your autograder to grade the three student solutions above based on a 95% confidence level. "
   ]
  },
  {
   "cell_type": "markdown",
   "metadata": {},
   "source": [
    "I am using the difference of means formula discussed in class to compare the differnce of means."
   ]
  },
  {
   "cell_type": "code",
   "execution_count": 142,
   "metadata": {
    "collapsed": true
   },
   "outputs": [],
   "source": [
    "def autograder(pf, st, alpha=0.05):\n",
    "    # mean and the array of each trial\n",
    "    pM, pArray = pf\n",
    "    sM, sArray = st\n",
    "    \n",
    "    diffMean = sM - pM\n",
    "    sVar = np.var(sArray)\n",
    "    pVar = np.var(pArray)\n",
    "    stdDiff = math.sqrt(((sVar)/ (len(sArray))) + ((pVar)/ (len(pArray))))\n",
    "    #print(sM,pM,stdDiff)\n",
    "    low = diffMean - (1.96 * stdDiff)\n",
    "    high = diffMean + (1.96 * stdDiff)\n",
    "    print(low, high)\n",
    "    \n",
    "    if low < 0 and high < 0:\n",
    "        return \"Failed\"\n",
    "        \n",
    "    elif low < 0 and high > 0:\n",
    "        return \"Passed\"\n",
    "        \n",
    "   # if False:\n",
    "    #    return \"Passed\"\n",
    "    #else:\n",
    "    #    return \"Failed\""
   ]
  },
  {
   "cell_type": "code",
   "execution_count": 143,
   "metadata": {},
   "outputs": [
    {
     "name": "stdout",
     "output_type": "stream",
     "text": [
      "-1.43666960363 -1.00653039637\n"
     ]
    },
    {
     "data": {
      "text/plain": [
       "'Failed'"
      ]
     },
     "execution_count": 143,
     "metadata": {},
     "output_type": "execute_result"
    }
   ],
   "source": [
    "autograder(prof(), student1())"
   ]
  },
  {
   "cell_type": "code",
   "execution_count": 144,
   "metadata": {},
   "outputs": [
    {
     "name": "stdout",
     "output_type": "stream",
     "text": [
      "-0.379178896838 0.0535788968384\n"
     ]
    },
    {
     "data": {
      "text/plain": [
       "'Passed'"
      ]
     },
     "execution_count": 144,
     "metadata": {},
     "output_type": "execute_result"
    }
   ],
   "source": [
    "autograder(prof(), student2())"
   ]
  },
  {
   "cell_type": "code",
   "execution_count": 145,
   "metadata": {},
   "outputs": [
    {
     "name": "stdout",
     "output_type": "stream",
     "text": [
      "-0.379883637342 0.0748405153231\n"
     ]
    },
    {
     "data": {
      "text/plain": [
       "'Passed'"
      ]
     },
     "execution_count": 145,
     "metadata": {},
     "output_type": "execute_result"
    }
   ],
   "source": [
    "autograder(prof(), student3())"
   ]
  },
  {
   "cell_type": "markdown",
   "metadata": {},
   "source": [
    "**[Extra Credit] Part B**: You realize that tests based solely on the estimate of the mean are not robust.  Come up with a better autograder that, again using tests based on confidence intervals, compares the students' solutions to the professor's solutions on statistical properties beyond just the mean. Again, **clearly** motivate the features of your autograder based on theory developed in class.    "
   ]
  },
  {
   "cell_type": "code",
   "execution_count": null,
   "metadata": {
    "collapsed": true
   },
   "outputs": [],
   "source": []
  }
 ],
 "metadata": {
  "kernelspec": {
   "display_name": "Python 3",
   "language": "python",
   "name": "python3"
  },
  "language_info": {
   "codemirror_mode": {
    "name": "ipython",
    "version": 3
   },
   "file_extension": ".py",
   "mimetype": "text/x-python",
   "name": "python",
   "nbconvert_exporter": "python",
   "pygments_lexer": "ipython3",
   "version": "3.6.1"
  }
 },
 "nbformat": 4,
 "nbformat_minor": 2
}
